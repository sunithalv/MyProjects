{
  "cells": [
    {
      "cell_type": "markdown",
      "metadata": {
        "id": "57LFapFUurCD"
      },
      "source": [
        "Download dataset from kaggle https://www.kaggle.com/datasets/iarunava/cell-images-for-detecting-malaria"
      ]
    },
    {
      "cell_type": "code",
      "execution_count": 1,
      "metadata": {
        "id": "HdWETrz7vCGA"
      },
      "outputs": [],
      "source": [
        "!mkdir -p ~/.kaggle\n",
        "!cp kaggle.json ~/.kaggle/"
      ]
    },
    {
      "cell_type": "code",
      "execution_count": 2,
      "metadata": {
        "colab": {
          "base_uri": "https://localhost:8080/"
        },
        "id": "-6kBvQoTu2z-",
        "outputId": "4ea0b5a0-110b-437f-fbed-7a7057c75a75"
      },
      "outputs": [
        {
          "output_type": "stream",
          "name": "stdout",
          "text": [
            "Warning: Your Kaggle API key is readable by other users on this system! To fix this, you can run 'chmod 600 /root/.kaggle/kaggle.json'\n",
            "Downloading cell-images-for-detecting-malaria.zip to /content\n",
            " 99% 671M/675M [00:10<00:00, 48.7MB/s]\n",
            "100% 675M/675M [00:10<00:00, 66.0MB/s]\n"
          ]
        }
      ],
      "source": [
        "!kaggle datasets download -d iarunava/cell-images-for-detecting-malaria"
      ]
    },
    {
      "cell_type": "code",
      "execution_count": 3,
      "metadata": {
        "id": "v3NRlMvfnPku"
      },
      "outputs": [],
      "source": [
        "import zipfile\n",
        "zip_ref=zipfile.ZipFile('/content/cell-images-for-detecting-malaria.zip')\n",
        "zip_ref.extractall('/content')\n",
        "zip_ref.close()"
      ]
    },
    {
      "cell_type": "code",
      "execution_count": 4,
      "metadata": {
        "id": "ZS5S4jvNf_r0"
      },
      "outputs": [],
      "source": [
        "from tensorflow.keras.layers import Input, Lambda, Dense, Flatten,Conv2D\n",
        "from tensorflow.keras.models import Model\n",
        "from tensorflow.keras.applications.vgg19 import VGG19\n",
        "from tensorflow.keras.applications.vgg19 import preprocess_input\n",
        "from tensorflow.keras.preprocessing import image\n",
        "from tensorflow.keras.preprocessing.image import ImageDataGenerator,load_img\n",
        "from tensorflow.keras.models import Sequential\n",
        "import numpy as np\n",
        "from glob import glob\n",
        "import matplotlib.pyplot as plt"
      ]
    },
    {
      "cell_type": "code",
      "execution_count": null,
      "metadata": {
        "id": "IkOUERg3ieKB"
      },
      "outputs": [],
      "source": [
        "# re-size all the images to this\n",
        "IMAGE_SIZE = [224, 224]\n",
        "\n",
        "#train_path = '/content/Dataset/Train'\n",
        "#valid_path = '/content/Dataset/Test'"
      ]
    },
    {
      "cell_type": "code",
      "execution_count": null,
      "metadata": {
        "colab": {
          "base_uri": "https://localhost:8080/"
        },
        "id": "rApOCIauirOU",
        "outputId": "1a91b877-c8ca-496f-c8c7-15fa1c956279"
      },
      "outputs": [
        {
          "name": "stdout",
          "output_type": "stream",
          "text": [
            "Downloading data from https://storage.googleapis.com/tensorflow/keras-applications/vgg19/vgg19_weights_tf_dim_ordering_tf_kernels_notop.h5\n",
            "80134624/80134624 [==============================] - 0s 0us/step\n"
          ]
        }
      ],
      "source": [
        "# Import the Vgg 16 library as shown below and add preprocessing layer to the front of VGG\n",
        "# Here we will be using imagenet weights\n",
        "\n",
        "vggmodel = VGG19(input_shape=IMAGE_SIZE + [3], weights='imagenet', include_top=False)"
      ]
    },
    {
      "cell_type": "code",
      "execution_count": null,
      "metadata": {
        "id": "9mdxNRPdis3m"
      },
      "outputs": [],
      "source": [
        "# don't train existing weights\n",
        "for layer in vggmodel.layers:\n",
        "    layer.trainable = False"
      ]
    },
    {
      "cell_type": "code",
      "execution_count": null,
      "metadata": {
        "colab": {
          "base_uri": "https://localhost:8080/"
        },
        "id": "o1PID_XmitzG",
        "outputId": "9dc8fe68-9b88-4037-a69e-b92a954d21f8"
      },
      "outputs": [
        {
          "data": {
            "text/plain": [
              "['/content/cell_images/cell_images/Uninfected',\n",
              " '/content/cell_images/cell_images/Parasitized']"
            ]
          },
          "execution_count": 8,
          "metadata": {},
          "output_type": "execute_result"
        }
      ],
      "source": [
        "  # useful for getting number of output classes\n",
        "#folders = glob('/content/Dataset/Train/*')\n",
        "folders = glob('/content/cell_images/cell_images/*')\n",
        "folders"
      ]
    },
    {
      "cell_type": "code",
      "execution_count": null,
      "metadata": {
        "id": "PTc07ioUiutG"
      },
      "outputs": [],
      "source": [
        "x = Flatten()(vggmodel.output)"
      ]
    },
    {
      "cell_type": "code",
      "execution_count": null,
      "metadata": {
        "id": "f0Elp9JfjG_F"
      },
      "outputs": [],
      "source": [
        "#prediction = Dense(len(folders), activation='softmax')(x)\n",
        "prediction = Dense(1, activation='sigmoid')(x)\n",
        "# create a model object\n",
        "model = Model(inputs=vggmodel.input, outputs=prediction)"
      ]
    },
    {
      "cell_type": "code",
      "execution_count": null,
      "metadata": {
        "colab": {
          "base_uri": "https://localhost:8080/"
        },
        "id": "ufAaBYv1kebB",
        "outputId": "40219cca-6a08-4418-d0d8-199394c1698f"
      },
      "outputs": [
        {
          "name": "stdout",
          "output_type": "stream",
          "text": [
            "Model: \"model\"\n",
            "_________________________________________________________________\n",
            " Layer (type)                Output Shape              Param #   \n",
            "=================================================================\n",
            " input_1 (InputLayer)        [(None, 224, 224, 3)]     0         \n",
            "                                                                 \n",
            " block1_conv1 (Conv2D)       (None, 224, 224, 64)      1792      \n",
            "                                                                 \n",
            " block1_conv2 (Conv2D)       (None, 224, 224, 64)      36928     \n",
            "                                                                 \n",
            " block1_pool (MaxPooling2D)  (None, 112, 112, 64)      0         \n",
            "                                                                 \n",
            " block2_conv1 (Conv2D)       (None, 112, 112, 128)     73856     \n",
            "                                                                 \n",
            " block2_conv2 (Conv2D)       (None, 112, 112, 128)     147584    \n",
            "                                                                 \n",
            " block2_pool (MaxPooling2D)  (None, 56, 56, 128)       0         \n",
            "                                                                 \n",
            " block3_conv1 (Conv2D)       (None, 56, 56, 256)       295168    \n",
            "                                                                 \n",
            " block3_conv2 (Conv2D)       (None, 56, 56, 256)       590080    \n",
            "                                                                 \n",
            " block3_conv3 (Conv2D)       (None, 56, 56, 256)       590080    \n",
            "                                                                 \n",
            " block3_conv4 (Conv2D)       (None, 56, 56, 256)       590080    \n",
            "                                                                 \n",
            " block3_pool (MaxPooling2D)  (None, 28, 28, 256)       0         \n",
            "                                                                 \n",
            " block4_conv1 (Conv2D)       (None, 28, 28, 512)       1180160   \n",
            "                                                                 \n",
            " block4_conv2 (Conv2D)       (None, 28, 28, 512)       2359808   \n",
            "                                                                 \n",
            " block4_conv3 (Conv2D)       (None, 28, 28, 512)       2359808   \n",
            "                                                                 \n",
            " block4_conv4 (Conv2D)       (None, 28, 28, 512)       2359808   \n",
            "                                                                 \n",
            " block4_pool (MaxPooling2D)  (None, 14, 14, 512)       0         \n",
            "                                                                 \n",
            " block5_conv1 (Conv2D)       (None, 14, 14, 512)       2359808   \n",
            "                                                                 \n",
            " block5_conv2 (Conv2D)       (None, 14, 14, 512)       2359808   \n",
            "                                                                 \n",
            " block5_conv3 (Conv2D)       (None, 14, 14, 512)       2359808   \n",
            "                                                                 \n",
            " block5_conv4 (Conv2D)       (None, 14, 14, 512)       2359808   \n",
            "                                                                 \n",
            " block5_pool (MaxPooling2D)  (None, 7, 7, 512)         0         \n",
            "                                                                 \n",
            " flatten (Flatten)           (None, 25088)             0         \n",
            "                                                                 \n",
            " dense (Dense)               (None, 1)                 25089     \n",
            "                                                                 \n",
            "=================================================================\n",
            "Total params: 20,049,473\n",
            "Trainable params: 25,089\n",
            "Non-trainable params: 20,024,384\n",
            "_________________________________________________________________\n"
          ]
        }
      ],
      "source": [
        "\n",
        "# view the structure of the model\n",
        "model.summary()"
      ]
    },
    {
      "cell_type": "code",
      "execution_count": null,
      "metadata": {
        "id": "rjwG_oM1nM_R"
      },
      "outputs": [],
      "source": [
        "#from tensorflow.keras.layers import MaxPooling2D"
      ]
    },
    {
      "cell_type": "code",
      "execution_count": null,
      "metadata": {
        "id": "eSz9JEiYmK0S"
      },
      "outputs": [],
      "source": [
        "# ### Create Model from scratch using CNN\n",
        "# model=Sequential()\n",
        "# model.add(Conv2D(filters=16,kernel_size=2,padding=\"same\",activation=\"relu\",input_shape=(224,224,3)))\n",
        "# model.add(MaxPooling2D(pool_size=2))\n",
        "# model.add(Conv2D(filters=32,kernel_size=2,padding=\"same\",activation =\"relu\"))\n",
        "# model.add(MaxPooling2D(pool_size=2))\n",
        "# model.add(Conv2D(filters=64,kernel_size=2,padding=\"same\",activation=\"relu\"))\n",
        "# model.add(MaxPooling2D(pool_size=2))\n",
        "# model.add(Flatten())\n",
        "# model.add(Dense(500,activation=\"relu\"))\n",
        "# model.add(Dense(2,activation=\"softmax\"))\n",
        "# model.summary()"
      ]
    },
    {
      "cell_type": "code",
      "execution_count": null,
      "metadata": {
        "id": "BpoG7kB03l28"
      },
      "outputs": [],
      "source": [
        "# tell the model what cost and optimization method to use\n",
        "# model.compile(\n",
        "#   loss='categorical_crossentropy',\n",
        "#   optimizer='adam',\n",
        "#   metrics=['accuracy']\n",
        "# )\n",
        "\n",
        "model.compile(\n",
        "  loss='binary_crossentropy',\n",
        "  optimizer='adam',\n",
        "  metrics=['accuracy']\n",
        ")\n"
      ]
    },
    {
      "cell_type": "code",
      "execution_count": null,
      "metadata": {
        "id": "8Ad-qGNS4DZk"
      },
      "outputs": [],
      "source": [
        "# Use the Image Data Generator to import the images from the dataset\n",
        "from tensorflow.keras.preprocessing.image import ImageDataGenerator\n",
        "\n",
        "# datagen = ImageDataGenerator(rescale = 1./255,validation_split=0.2,\n",
        "#                                    shear_range = 0.2,\n",
        "#                                    zoom_range = 0.2,\n",
        "#                                    horizontal_flip = True)\n",
        "\n",
        "datagen = ImageDataGenerator(rescale = 1./255,validation_split=0.2)\n"
      ]
    },
    {
      "cell_type": "code",
      "execution_count": null,
      "metadata": {
        "colab": {
          "base_uri": "https://localhost:8080/"
        },
        "id": "jBFBHyv84I5k",
        "outputId": "b10a185f-0462-43fb-967a-8d86c109a5d7"
      },
      "outputs": [
        {
          "name": "stdout",
          "output_type": "stream",
          "text": [
            "Found 22048 images belonging to 2 classes.\n"
          ]
        }
      ],
      "source": [
        "# Make sure you provide the same target size as initialied for the image size\n",
        "training_set = datagen.flow_from_directory('/content/cell_images/cell_images',\n",
        "                                                 target_size = (224, 224),\n",
        "                                                 batch_size = 32,\n",
        "                                                 class_mode = 'binary',subset='training')"
      ]
    },
    {
      "cell_type": "code",
      "execution_count": null,
      "metadata": {
        "colab": {
          "base_uri": "https://localhost:8080/"
        },
        "id": "KxhrgjJ04SaW",
        "outputId": "90840d7e-c7dd-4898-df50-78791d07400b"
      },
      "outputs": [
        {
          "name": "stdout",
          "output_type": "stream",
          "text": [
            "Found 5510 images belonging to 2 classes.\n"
          ]
        }
      ],
      "source": [
        "test_set =datagen.flow_from_directory('/content/cell_images/cell_images',\n",
        "                                                 target_size = (224, 224),\n",
        "                                                 batch_size = 32,\n",
        "                                                 class_mode = 'binary',subset='validation')"
      ]
    },
    {
      "cell_type": "code",
      "execution_count": null,
      "metadata": {
        "colab": {
          "base_uri": "https://localhost:8080/"
        },
        "id": "OKejOs7F4YaD",
        "outputId": "ea511eac-eb87-4a96-84f4-09af97e866bd"
      },
      "outputs": [
        {
          "name": "stdout",
          "output_type": "stream",
          "text": [
            "Epoch 1/10\n",
            "689/689 [==============================] - 167s 226ms/step - loss: 0.3661 - accuracy: 0.8402 - val_loss: 0.3150 - val_accuracy: 0.8800\n",
            "Epoch 2/10\n",
            "689/689 [==============================] - 164s 238ms/step - loss: 0.2524 - accuracy: 0.9005 - val_loss: 0.2795 - val_accuracy: 0.8962\n",
            "Epoch 3/10\n",
            "689/689 [==============================] - 167s 242ms/step - loss: 0.2046 - accuracy: 0.9210 - val_loss: 0.2376 - val_accuracy: 0.9067\n",
            "Epoch 4/10\n",
            "689/689 [==============================] - 167s 242ms/step - loss: 0.1852 - accuracy: 0.9302 - val_loss: 0.3572 - val_accuracy: 0.8566\n",
            "Epoch 5/10\n",
            "689/689 [==============================] - 167s 242ms/step - loss: 0.1728 - accuracy: 0.9356 - val_loss: 0.2802 - val_accuracy: 0.8855\n",
            "Epoch 6/10\n",
            "689/689 [==============================] - 167s 242ms/step - loss: 0.1608 - accuracy: 0.9388 - val_loss: 0.2973 - val_accuracy: 0.8802\n",
            "Epoch 7/10\n",
            "689/689 [==============================] - 167s 242ms/step - loss: 0.1513 - accuracy: 0.9431 - val_loss: 0.2322 - val_accuracy: 0.9078\n",
            "Epoch 8/10\n",
            "689/689 [==============================] - 166s 241ms/step - loss: 0.1592 - accuracy: 0.9387 - val_loss: 0.2875 - val_accuracy: 0.8882\n",
            "Epoch 9/10\n",
            "689/689 [==============================] - 167s 242ms/step - loss: 0.1393 - accuracy: 0.9492 - val_loss: 0.2429 - val_accuracy: 0.9083\n",
            "Epoch 10/10\n",
            "689/689 [==============================] - 167s 242ms/step - loss: 0.1352 - accuracy: 0.9502 - val_loss: 0.2589 - val_accuracy: 0.9051\n"
          ]
        }
      ],
      "source": [
        "# fit the model\n",
        "r = model.fit(\n",
        "  training_set,\n",
        "  validation_data=test_set,\n",
        "  epochs=10,\n",
        "  steps_per_epoch=len(training_set),\n",
        "  validation_steps=len(test_set)\n",
        ")"
      ]
    },
    {
      "cell_type": "code",
      "execution_count": null,
      "metadata": {
        "colab": {
          "base_uri": "https://localhost:8080/",
          "height": 530
        },
        "id": "neARpwnr8Gyt",
        "outputId": "d91ff4b7-5849-42d9-d6bf-f823cfc609be"
      },
      "outputs": [
        {
          "data": {
            "image/png": "[encoded data removed]",
            "text/plain": [
              "<Figure size 432x288 with 1 Axes>"
            ]
          },
          "metadata": {
            "needs_background": "light"
          },
          "output_type": "display_data"
        },
        {
          "data": {
            "image/png": "[encoded data removed]",
            "text/plain": [
              "<Figure size 432x288 with 1 Axes>"
            ]
          },
          "metadata": {
            "needs_background": "light"
          },
          "output_type": "display_data"
        },
        {
          "data": {
            "text/plain": [
              "<Figure size 432x288 with 0 Axes>"
            ]
          },
          "metadata": {},
          "output_type": "display_data"
        }
      ],
      "source": [
        "# plot the loss\n",
        "import matplotlib.pyplot as plt\n",
        "plt.plot(r.history['loss'], label='train loss')\n",
        "plt.plot(r.history['val_loss'], label='val loss')\n",
        "plt.legend()\n",
        "plt.show()\n",
        "plt.savefig('LossVal_loss')\n",
        "\n",
        "# plot the accuracy\n",
        "plt.plot(r.history['accuracy'], label='train acc')\n",
        "plt.plot(r.history['val_accuracy'], label='val acc')\n",
        "plt.legend()\n",
        "plt.show()\n",
        "plt.savefig('AccVal_acc')"
      ]
    },
    {
      "cell_type": "code",
      "execution_count": null,
      "metadata": {
        "id": "3zIrS8aJ-FbS"
      },
      "outputs": [],
      "source": [
        "\n",
        "model.save('model_malariadetection.h5')"
      ]
    },
    {
      "cell_type": "code",
      "execution_count": null,
      "metadata": {
        "colab": {
          "base_uri": "https://localhost:8080/",
          "height": 17
        },
        "id": "0MDUKuJ6_jlV",
        "outputId": "2abaf6f5-d3fc-4e56-da08-4160451e1795"
      },
      "outputs": [
        {
          "data": {
            "application/javascript": [
              "\n",
              "    async function download(id, filename, size) {\n",
              "      if (!google.colab.kernel.accessAllowed) {\n",
              "        return;\n",
              "      }\n",
              "      const div = document.createElement('div');\n",
              "      const label = document.createElement('label');\n",
              "      label.textContent = `Downloading \"${filename}\": `;\n",
              "      div.appendChild(label);\n",
              "      const progress = document.createElement('progress');\n",
              "      progress.max = size;\n",
              "      div.appendChild(progress);\n",
              "      document.body.appendChild(div);\n",
              "\n",
              "      const buffers = [];\n",
              "      let downloaded = 0;\n",
              "\n",
              "      const channel = await google.colab.kernel.comms.open(id);\n",
              "      // Send a message to notify the kernel that we're ready.\n",
              "      channel.send({})\n",
              "\n",
              "      for await (const message of channel.messages) {\n",
              "        // Send a message to notify the kernel that we're ready.\n",
              "        channel.send({})\n",
              "        if (message.buffers) {\n",
              "          for (const buffer of message.buffers) {\n",
              "            buffers.push(buffer);\n",
              "            downloaded += buffer.byteLength;\n",
              "            progress.value = downloaded;\n",
              "          }\n",
              "        }\n",
              "      }\n",
              "      const blob = new Blob(buffers, {type: 'application/binary'});\n",
              "      const a = document.createElement('a');\n",
              "      a.href = window.URL.createObjectURL(blob);\n",
              "      a.download = filename;\n",
              "      div.appendChild(a);\n",
              "      a.click();\n",
              "      div.remove();\n",
              "    }\n",
              "  "
            ],
            "text/plain": [
              "<IPython.core.display.Javascript object>"
            ]
          },
          "metadata": {},
          "output_type": "display_data"
        },
        {
          "data": {
            "application/javascript": [
              "download(\"download_99c7333d-280c-405d-ad9c-0487c7f5d83d\", \"model_malariadetection.h5\", 80490792)"
            ],
            "text/plain": [
              "<IPython.core.display.Javascript object>"
            ]
          },
          "metadata": {},
          "output_type": "display_data"
        }
      ],
      "source": [
        "from google.colab import files\n",
        "files.download('model_malariadetection.h5')\n",
        "#Downloads the file to downloads folder of local m/c"
      ]
    },
    {
      "cell_type": "code",
      "execution_count": null,
      "metadata": {
        "colab": {
          "base_uri": "https://localhost:8080/"
        },
        "id": "kyNOUCBx_tzy",
        "outputId": "172c5efe-25ef-420c-9a38-60f14cb1157b"
      },
      "outputs": [
        {
          "name": "stdout",
          "output_type": "stream",
          "text": [
            "173/173 [==============================] - 30s 173ms/step\n"
          ]
        }
      ],
      "source": [
        "\n",
        "y_pred = model.predict(test_set)\n"
      ]
    },
    {
      "cell_type": "code",
      "execution_count": null,
      "metadata": {
        "id": "AvA09uRSB2-a"
      },
      "outputs": [],
      "source": [
        "import numpy as np\n",
        "y_pred = np.argmax(y_pred, axis=1)"
      ]
    },
    {
      "cell_type": "code",
      "execution_count": null,
      "metadata": {
        "colab": {
          "base_uri": "https://localhost:8080/"
        },
        "id": "XBXELbAyyjwu",
        "outputId": "ea921add-168e-49b3-f094-5eef17d5b6d6"
      },
      "outputs": [
        {
          "data": {
            "text/plain": [
              "array([0, 0, 0, ..., 0, 0, 0])"
            ]
          },
          "execution_count": 23,
          "metadata": {},
          "output_type": "execute_result"
        }
      ],
      "source": [
        "y_pred"
      ]
    },
    {
      "cell_type": "code",
      "execution_count": 6,
      "metadata": {
        "id": "kdesfjdtB9wb"
      },
      "outputs": [],
      "source": [
        "from tensorflow.keras.models import load_model\n",
        "from tensorflow.keras.preprocessing import image"
      ]
    },
    {
      "cell_type": "code",
      "execution_count": 7,
      "metadata": {
        "id": "O3qp9DKOCAGZ"
      },
      "outputs": [],
      "source": [
        "model=load_model('model_malariadetection.h5')"
      ]
    },
    {
      "cell_type": "code",
      "execution_count": 14,
      "metadata": {
        "id": "oAMfG96cCD0J",
        "colab": {
          "base_uri": "https://localhost:8080/",
          "height": 241
        },
        "outputId": "198823af-47ef-4629-88e9-62d183a28c66"
      },
      "outputs": [
        {
          "output_type": "execute_result",
          "data": {
            "text/plain": [
              "<PIL.Image.Image image mode=RGB size=224x224 at 0x7F2AC021EC10>"
            ],
            "image/png": "[encoded data removed]"
          },
          "metadata": {},
          "execution_count": 14
        }
      ],
      "source": [
        "#img=image.load_img('uploads/C39P4thinF_original_IMG_20150622_105554_cell_18.png',target_size=(224,224))\n",
        "#img=image.load_img('uploads/C3thin_original_IMG_20150608_162922_cell_191.png',target_size=(224,224))\n",
        "#img=image.load_img('/content/cell_images/cell_images/Uninfected/C100P61ThinF_IMG_20150918_144348_cell_125.png',target_size=(224,224))\n",
        "img=image.load_img('/content/cell_images/cell_images/Parasitized/C100P61ThinF_IMG_20150918_144348_cell_140.png',target_size=(224,224))\n",
        "img"
      ]
    },
    {
      "cell_type": "code",
      "execution_count": null,
      "metadata": {
        "id": "I_1AHKcfrzp-",
        "outputId": "7d1f6b12-b04c-4e34-ac8d-8e2253edb393"
      },
      "outputs": [
        {
          "name": "stdout",
          "output_type": "stream",
          "text": [
            "Requirement already satisfied: opencv-python in c:\\users\\sunit\\anaconda3\\lib\\site-packages (4.7.0.68)\n",
            "Requirement already satisfied: numpy>=1.17.3 in c:\\users\\sunit\\anaconda3\\lib\\site-packages (from opencv-python) (1.21.5)\n"
          ]
        }
      ],
      "source": [
        "!pip install opencv-python"
      ]
    },
    {
      "cell_type": "code",
      "execution_count": null,
      "metadata": {
        "id": "_CyYvjksrzp-",
        "outputId": "296b3a0c-473d-407e-cfb8-60c72b358572"
      },
      "outputs": [
        {
          "name": "stdout",
          "output_type": "stream",
          "text": [
            "Loaded Image Shape: (160, 124, 3)\n"
          ]
        },
        {
          "data": {
            "image/png": "[encoded data removed]",
            "text/plain": [
              "<Figure size 640x480 with 1 Axes>"
            ]
          },
          "metadata": {},
          "output_type": "display_data"
        },
        {
          "name": "stdout",
          "output_type": "stream",
          "text": [
            "1/1 [==============================] - 0s 218ms/step\n",
            "[[0.]]\n"
          ]
        }
      ],
      "source": [
        "import cv2\n",
        "img = cv2.imread('uploads/C39P4thinF_original_IMG_20150622_105554_cell_18.png'); \n",
        "#img = cv2.imread('uploads/C3thin_original_IMG_20150608_163002_cell_39.png'); \n",
        "\n",
        "# Setting the dimensions for the loaded image to be converted into and displaying the shape of the image \n",
        "print(\"Loaded Image Shape: {}\".format(img.shape)); \n",
        "\n",
        "# Resizing the image \n",
        "img = cv2.resize(img, (224,224), interpolation = cv2.INTER_AREA); \n",
        "plt.grid(False) \n",
        "plt.imshow(img) \n",
        "plt.show() \n",
        "\n",
        "# Expanding the image dimensions \n",
        "image = np.expand_dims(img, axis = 0); \n",
        "\n",
        "# Making Final Predictions \n",
        "result = model.predict(image)\n",
        "print(result)\n",
        "# # Creating a loop to get the actual predicted class \n",
        "# for key, value in (training_set.class_indices.items()): \n",
        "#     if value == result: \n",
        "#         print(\"The Predicted Class is: {}\".format(key))"
      ]
    },
    {
      "cell_type": "code",
      "execution_count": 15,
      "metadata": {
        "id": "lP55WDzSrzp_"
      },
      "outputs": [],
      "source": [
        "# import tensorflow as tf\n",
        "# tf.image.resize(img, (224, 224))\n",
        "x=image.img_to_array(img)"
      ]
    },
    {
      "cell_type": "code",
      "execution_count": 16,
      "metadata": {
        "colab": {
          "base_uri": "https://localhost:8080/"
        },
        "id": "bRFxUaEQCUhL",
        "outputId": "b0cd668a-b8a3-4da1-b50c-6b77bc883eab"
      },
      "outputs": [
        {
          "output_type": "execute_result",
          "data": {
            "text/plain": [
              "(224, 224, 3)"
            ]
          },
          "metadata": {},
          "execution_count": 16
        }
      ],
      "source": [
        "x.shape"
      ]
    },
    {
      "cell_type": "code",
      "execution_count": 17,
      "metadata": {
        "colab": {
          "base_uri": "https://localhost:8080/"
        },
        "id": "tKnj2W1TCdvK",
        "outputId": "a0d88e34-8a3f-450e-a416-33357d0daf63"
      },
      "outputs": [
        {
          "output_type": "execute_result",
          "data": {
            "text/plain": [
              "(1, 224, 224, 3)"
            ]
          },
          "metadata": {},
          "execution_count": 17
        }
      ],
      "source": [
        "#x=x/255\n",
        "x=np.expand_dims(x,axis=0)\n",
        "#img_data=preprocess_input(x)\n",
        "x.shape"
      ]
    },
    {
      "cell_type": "code",
      "execution_count": 18,
      "metadata": {
        "colab": {
          "base_uri": "https://localhost:8080/"
        },
        "id": "5rNmSCDeCiim",
        "outputId": "2134c3e9-62c8-4159-e651-1f3048c5da8c"
      },
      "outputs": [
        {
          "output_type": "stream",
          "name": "stdout",
          "text": [
            "1/1 [==============================] - 0s 28ms/step\n"
          ]
        },
        {
          "output_type": "execute_result",
          "data": {
            "text/plain": [
              "array([[0.]], dtype=float32)"
            ]
          },
          "metadata": {},
          "execution_count": 18
        }
      ],
      "source": [
        "pred=model.predict(x)\n",
        "pred"
      ]
    },
    {
      "cell_type": "code",
      "execution_count": null,
      "metadata": {
        "id": "mu70U6ucCkuT"
      },
      "outputs": [],
      "source": [
        "#a=np.argmax(model.predict(img_data), axis=1)"
      ]
    },
    {
      "cell_type": "code",
      "execution_count": 19,
      "metadata": {
        "colab": {
          "base_uri": "https://localhost:8080/"
        },
        "id": "LgQRBRUbCosQ",
        "outputId": "6940bc87-8014-4a82-be08-cef1b907265a"
      },
      "outputs": [
        {
          "output_type": "stream",
          "name": "stdout",
          "text": [
            "Infected\n"
          ]
        }
      ],
      "source": [
        "if(pred==1):\n",
        "    print(\"Uninfected\")\n",
        "else:\n",
        "    print(\"Infected\")"
      ]
    },
    {
      "cell_type": "code",
      "execution_count": null,
      "metadata": {
        "id": "wL7J9thVrzp_"
      },
      "outputs": [],
      "source": []
    }
  ],
  "metadata": {
    "accelerator": "GPU",
    "colab": {
      "provenance": []
    },
    "gpuClass": "standard",
    "kernelspec": {
      "display_name": "Python 3 (ipykernel)",
      "language": "python",
      "name": "python3"
    },
    "language_info": {
      "codemirror_mode": {
        "name": "ipython",
        "version": 3
      },
      "file_extension": ".py",
      "mimetype": "text/x-python",
      "name": "python",
      "nbconvert_exporter": "python",
      "pygments_lexer": "ipython3",
      "version": "3.9.7"
    }
  },
  "nbformat": 4,
  "nbformat_minor": 0
}