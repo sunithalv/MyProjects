{
 "cells": [
  {
   "cell_type": "markdown",
   "id": "a63fc26c",
   "metadata": {},
   "source": [
    "### Import libraries"
   ]
  },
  {
   "cell_type": "code",
   "execution_count": 12,
   "id": "0bb30ea5",
   "metadata": {},
   "outputs": [],
   "source": [
    "import cv2\n",
    "import numpy as np"
   ]
  },
  {
   "cell_type": "code",
   "execution_count": 21,
   "id": "7c3d5fb4",
   "metadata": {},
   "outputs": [],
   "source": [
    "#Drwa the lines on image;lines has start and end point of lines\n",
    "def draw_the_lines(image,lines):\n",
    "    #Create distinct image for lines\n",
    "    lines_image=np.zeros((image.shape[0],image.shape[1],3),dtype=np.uint8)\n",
    "    #x and y coordinates for start and end points;blue line\n",
    "    for line in lines:\n",
    "        for x1,y1,x2,y2 in line:\n",
    "            cv2.line(lines_image,(x1,y1),(x2,y2),(255,0,0),thickness=3)\n",
    "    \n",
    "    #Merge image with lines;0.8 transparancy for image and 1 transparancy for lines image\n",
    "    image_with_lines=cv2.addWeighted(image,0.8,lines_image,1,0.0)\n",
    "    return image_with_lines\n",
    "        "
   ]
  },
  {
   "cell_type": "code",
   "execution_count": 22,
   "id": "c64e11af",
   "metadata": {},
   "outputs": [],
   "source": [
    "#Return the region of interest alone from image by creating mask and performing AND operator on image\n",
    "def region_of_interest(image,region_points):\n",
    "    #Replace the pixels of uninterested regions in image with 0\n",
    "    mask=np.zeros_like(image)\n",
    "    #Region of interested will be replaced by 255 in mask\n",
    "    cv2.fillPoly(mask,region_points,255)\n",
    "    #Perform AND operation b/w image and mask\n",
    "    masked_image=cv2.bitwise_and(image,mask)\n",
    "    return masked_image   "
   ]
  },
  {
   "cell_type": "code",
   "execution_count": 26,
   "id": "f18497b8",
   "metadata": {},
   "outputs": [],
   "source": [
    "#Return the video with lanes detected\n",
    "def get_detected_lanes(image):\n",
    "    (height,width)=(image.shape[0],image.shape[1])\n",
    "    #Convert image into gray scale\n",
    "    gray_image=cv2.cvtColor(image,cv2.COLOR_BGR2GRAY)\n",
    "    #Edge detection kernel(Canny's algorithm);100 & 120 thresholds\n",
    "    canny_image=cv2.Canny(gray_image,100,120)\n",
    "    \n",
    "    #Get the region of interest ie lower region of image as a triangle enclosing the lanes\n",
    "    roi_vertices=[\n",
    "        (0,height),#bottom left corner\n",
    "        (width/2,height*0.65),#point below middle of image\n",
    "        (width,height)#bottom right corner\n",
    "    ]\n",
    "    \n",
    "    #We can get rid of unrelevant part of image and keep the lower triangle region\n",
    "    cropped_image=region_of_interest(canny_image,np.array([roi_vertices],np.int32))\n",
    "    \n",
    "    #Use Hough algorithm to generate lines;angle is in radians instead of degrees ie 1degree=pi/180\n",
    "    lines=cv2.HoughLinesP(cropped_image,rho=2,theta=np.pi/180,threshold=50,lines=np.array([]),minLineLength=40,maxLineGap=150)\n",
    "    \n",
    "    #Draw the lines on the image\n",
    "    image_with_lines=draw_the_lines(image,lines)\n",
    "    \n",
    "    return image_with_lines"
   ]
  },
  {
   "cell_type": "markdown",
   "id": "4513db7b",
   "metadata": {},
   "source": [
    "### Read and play the video"
   ]
  },
  {
   "cell_type": "code",
   "execution_count": 27,
   "id": "08f038f5",
   "metadata": {},
   "outputs": [],
   "source": [
    "#Video is composed of multiple frames/images shown one after the other\n",
    "video=cv2.VideoCapture('video/lane_detection_video.mp4')"
   ]
  },
  {
   "cell_type": "code",
   "execution_count": 28,
   "id": "f8b01f97",
   "metadata": {},
   "outputs": [],
   "source": [
    "while video.isOpened():\n",
    "    is_grabbed,frame=video.read()\n",
    "    #Check if end of video\n",
    "    if not is_grabbed:\n",
    "        break\n",
    "    \n",
    "    frame=get_detected_lanes(frame)\n",
    "    cv2.imshow('Lane Detection Video',frame)\n",
    "    #To introduce a wait time between frames for viewing video\n",
    "    cv2.waitKey(20)\n",
    "\n",
    "video.release()\n",
    "cv2.destroyAllWindows()\n",
    "        "
   ]
  },
  {
   "cell_type": "code",
   "execution_count": null,
   "id": "ca8f3df4",
   "metadata": {},
   "outputs": [],
   "source": []
  },
  {
   "cell_type": "code",
   "execution_count": null,
   "id": "17d4f4d2",
   "metadata": {},
   "outputs": [],
   "source": []
  },
  {
   "cell_type": "code",
   "execution_count": null,
   "id": "136d6282",
   "metadata": {},
   "outputs": [],
   "source": []
  },
  {
   "cell_type": "code",
   "execution_count": null,
   "id": "665a9e3c",
   "metadata": {},
   "outputs": [],
   "source": []
  },
  {
   "cell_type": "code",
   "execution_count": null,
   "id": "ffd33bf8",
   "metadata": {},
   "outputs": [],
   "source": []
  },
  {
   "cell_type": "code",
   "execution_count": null,
   "id": "bd6d8de4",
   "metadata": {},
   "outputs": [],
   "source": []
  },
  {
   "cell_type": "code",
   "execution_count": null,
   "id": "e35f02a5",
   "metadata": {},
   "outputs": [],
   "source": []
  }
 ],
 "metadata": {
  "kernelspec": {
   "display_name": "Python 3 (ipykernel)",
   "language": "python",
   "name": "python3"
  },
  "language_info": {
   "codemirror_mode": {
    "name": "ipython",
    "version": 3
   },
   "file_extension": ".py",
   "mimetype": "text/x-python",
   "name": "python",
   "nbconvert_exporter": "python",
   "pygments_lexer": "ipython3",
   "version": "3.10.11"
  }
 },
 "nbformat": 4,
 "nbformat_minor": 5
}
