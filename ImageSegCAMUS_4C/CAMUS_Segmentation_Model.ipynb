{
  "nbformat": 4,
  "nbformat_minor": 0,
  "metadata": {
    "colab": {
      "provenance": [],
      "machine_shape": "hm"
    },
    "kernelspec": {
      "name": "python3",
      "display_name": "Python 3"
    },
    "language_info": {
      "name": "python"
    },
    "accelerator": "GPU",
    "gpuClass": "standard"
  },
  "cells": [
    {
      "cell_type": "markdown",
      "source": [
        "### Preprocessing of the CAMUS dataset"
      ],
      "metadata": {
        "id": "MbTnZQnvOkjf"
      }
    },
    {
      "cell_type": "code",
      "source": [
        "from google.colab import drive\n",
        "drive.mount('/content/drive')"
      ],
      "metadata": {
        "colab": {
          "base_uri": "https://localhost:8080/"
        },
        "id": "7MnZn1FshFtU",
        "outputId": "3b8a3254-c14b-4a37-8669-20106ca4b038"
      },
      "execution_count": 1,
      "outputs": [
        {
          "output_type": "stream",
          "name": "stdout",
          "text": [
            "Drive already mounted at /content/drive; to attempt to forcibly remount, call drive.mount(\"/content/drive\", force_remount=True).\n"
          ]
        }
      ]
    },
    {
      "cell_type": "markdown",
      "source": [
        "#### Import required libraries"
      ],
      "metadata": {
        "id": "aSBEsCFVPiDQ"
      }
    },
    {
      "cell_type": "code",
      "source": [
        "!pip install SimpleITK"
      ],
      "metadata": {
        "colab": {
          "base_uri": "https://localhost:8080/"
        },
        "id": "5BwHp9e-TIs0",
        "outputId": "8927d271-bbd4-48f9-922e-41ffdfd232b6"
      },
      "execution_count": 1,
      "outputs": [
        {
          "output_type": "stream",
          "name": "stdout",
          "text": [
            "Looking in indexes: https://pypi.org/simple, https://us-python.pkg.dev/colab-wheels/public/simple/\n",
            "Requirement already satisfied: SimpleITK in /usr/local/lib/python3.8/dist-packages (2.2.1)\n"
          ]
        }
      ]
    },
    {
      "cell_type": "code",
      "source": [
        "!pip install h5py"
      ],
      "metadata": {
        "colab": {
          "base_uri": "https://localhost:8080/"
        },
        "id": "vXbDksCe0QPa",
        "outputId": "e7ebea67-8049-4933-957e-d591572d388d"
      },
      "execution_count": 2,
      "outputs": [
        {
          "output_type": "stream",
          "name": "stdout",
          "text": [
            "Looking in indexes: https://pypi.org/simple, https://us-python.pkg.dev/colab-wheels/public/simple/\n",
            "Requirement already satisfied: h5py in /usr/local/lib/python3.8/dist-packages (3.1.0)\n",
            "Requirement already satisfied: numpy>=1.17.5 in /usr/local/lib/python3.8/dist-packages (from h5py) (1.22.4)\n"
          ]
        }
      ]
    },
    {
      "cell_type": "code",
      "source": [
        "import os\n",
        "from os import path\n",
        "import random\n",
        "import math\n",
        "import numpy as np \n",
        "import pandas as pd \n",
        "import time\n",
        "from contextlib import contextmanager # timer\n",
        "from functools import partial\n",
        "import seaborn as sns\n",
        "#To open the .mhd files(MetaImage MetaHeader files)\n",
        "import SimpleITK as sitk\n",
        "import matplotlib.pylab as plt\n",
        "%matplotlib inline\n",
        "import cv2\n",
        "from tqdm.notebook import tqdm\n",
        "#Copy the files to preprocessed folder\n",
        "import shutil\n",
        "fig_size = plt.rcParams[\"figure.figsize\"]\n",
        "\n",
        "fig_size[0] = 7\n",
        "fig_size[1] = 9\n",
        "plt.rcParams[\"figure.figsize\"] = fig_size\n",
        "\n",
        "import h5py\n",
        "\n",
        "import tensorflow as tf\n",
        "from tensorflow import keras\n",
        "#For data augmentation\n",
        "import imgaug\n",
        "import imgaug.augmenters as iaa\n",
        "from imgaug.augmentables.segmaps import SegmentationMapsOnImage\n",
        "from sklearn.utils import shuffle\n",
        "\n",
        "from keras.layers import Input, Conv2D, MaxPooling2D, Activation, ReLU\n",
        "from keras.layers import BatchNormalization, Conv2DTranspose, Concatenate\n",
        "from keras.models import Model, Sequential\n",
        "from keras import backend as K\n",
        "from unet import *\n",
        "from tensorflow.keras.optimizers import Adam\n",
        "from tensorflow.keras.callbacks import ModelCheckpoint, CSVLogger, ReduceLROnPlateau, EarlyStopping, TensorBoard\n",
        "from tensorflow.keras.models import load_model"
      ],
      "metadata": {
        "id": "OLHvGZVBOtkV"
      },
      "execution_count": 3,
      "outputs": []
    },
    {
      "cell_type": "code",
      "source": [
        "#To get the time taken for processing\n",
        "@contextmanager\n",
        "def timer(name):\n",
        "    t0 = time.time()\n",
        "    yield\n",
        "    print(f'[{name}] done in {time.time() - t0:.0f} s')"
      ],
      "metadata": {
        "id": "dI7fDZ8zOtnP"
      },
      "execution_count": 4,
      "outputs": []
    },
    {
      "cell_type": "code",
      "source": [
        "Image_Size = 384"
      ],
      "metadata": {
        "id": "t2NXWxAlcPfj"
      },
      "execution_count": 5,
      "outputs": []
    },
    {
      "cell_type": "code",
      "source": [
        "ROOT_PATH='/content/drive/MyDrive/Medical_Imaging/LVEF/Datasets/CAMUS/Original/database/Preprocessed/'\n",
        "TRAIN_PATH=ROOT_PATH+'training/'\n",
        "TEST_PATH=ROOT_PATH+'testing/'\n",
        "MODEL_PATH = ROOT_PATH+\"model.h5\"\n",
        "CSV_PATH = ROOT_PATH+\"log.csv\""
      ],
      "metadata": {
        "id": "QwzYmzbocVtw"
      },
      "execution_count": 6,
      "outputs": []
    },
    {
      "cell_type": "code",
      "source": [
        "# Z Normalize image by subtracting the mean and dividing by the standrad deviation\n",
        "def data_norm(input):\n",
        "    input = np.array(input, dtype=np.float32)\n",
        "    input  = input - np.mean(input)\n",
        "    #Add a very small value in denominator to prevent zero division\n",
        "    output = input / (np.std(input) + 1e-12)\n",
        "    return output"
      ],
      "metadata": {
        "id": "azWT4HHPdhGs"
      },
      "execution_count": 7,
      "outputs": []
    },
    {
      "cell_type": "code",
      "source": [
        "#Read the .mhd files as array\n",
        "def mhd_to_array(path):\n",
        "    \"\"\"\n",
        "    Read a *.mhd file stored in path and return it as a numpy array.\n",
        "    \"\"\"\n",
        "    return sitk.GetArrayFromImage(sitk.ReadImage(path, sitk.sitkFloat32))"
      ],
      "metadata": {
        "id": "jYa7cUYRckHS"
      },
      "execution_count": 8,
      "outputs": []
    },
    {
      "cell_type": "code",
      "source": [
        "#Read the .cfg file and return data as a dictionary\n",
        "def read_info(data_file):\n",
        "  info = {}\n",
        "  with open( data_file, 'r' ) as f:\n",
        "    for line in f.readlines():\n",
        "      info_type, info_details = line.strip( '\\n' ).split( ': ' )\n",
        "      info[ info_type ] = info_details\n",
        "  return info"
      ],
      "metadata": {
        "id": "2J9V2hqSma_f"
      },
      "execution_count": 9,
      "outputs": []
    },
    {
      "cell_type": "markdown",
      "source": [
        "## Load images with augmentation from the files"
      ],
      "metadata": {
        "id": "S1uZskYtpp7N"
      }
    },
    {
      "cell_type": "code",
      "source": [
        "#Read image and mask from the above file\n",
        "f = h5py.File(ROOT_PATH+\"image_dataset.hdf5\", \"r\")\n",
        "train_frames = f[\"train 4ch frames\"]\n",
        "print(train_frames.shape)\n",
        "train_masks = f[\"train 4ch masks\"]\n",
        "print(train_masks.shape)"
      ],
      "metadata": {
        "colab": {
          "base_uri": "https://localhost:8080/"
        },
        "id": "ARWnJslAFx8W",
        "outputId": "efe70b98-0780-4262-e82e-84c341248e32"
      },
      "execution_count": 10,
      "outputs": [
        {
          "output_type": "stream",
          "name": "stdout",
          "text": [
            "(900, 384, 384, 1)\n",
            "(900, 384, 384, 1)\n"
          ]
        }
      ]
    },
    {
      "cell_type": "code",
      "source": [
        "test_frames = f[\"test 4ch frames\"]\n",
        "print(test_frames.shape)\n",
        "test_masks = f[\"test 4ch masks\"]\n",
        "print(test_masks.shape)"
      ],
      "metadata": {
        "colab": {
          "base_uri": "https://localhost:8080/"
        },
        "id": "MKsdRmMtLCod",
        "outputId": "e54c342c-8ddf-4102-c787-b365d5df8263"
      },
      "execution_count": 11,
      "outputs": [
        {
          "output_type": "stream",
          "name": "stdout",
          "text": [
            "(100, 384, 384, 1)\n",
            "(100, 384, 384, 1)\n"
          ]
        }
      ]
    },
    {
      "cell_type": "code",
      "source": [
        "class LoadDataset(keras.utils.Sequence):\n",
        "    def __init__(self, c_type,trainortest, augment_params,batch_size=8,img_size=(Image_Size,Image_Size)):\n",
        "        self.all_frames = self.extract_files(c_type,trainortest,False)\n",
        "        self.all_masks = self.extract_files(c_type,trainortest,True)\n",
        "        self.augment_params = augment_params\n",
        "        self.batch_size = batch_size\n",
        "        self.img_size = img_size\n",
        "    \n",
        "    @staticmethod\n",
        "    def extract_files(c_type,trainortest,ismask):\n",
        "        \"\"\"\n",
        "        Extract the paths to all slices given the root path (ends with train or val)\n",
        "        \"\"\"\n",
        "        files = []\n",
        "        if c_type=='4C':\n",
        "          path=trainortest+\" 4ch frames\"\n",
        "          if ismask:\n",
        "            path=trainortest+\" 4ch masks\"\n",
        "        else:\n",
        "          path=trainortest+\" 2ch frames\"\n",
        "          if ismask:\n",
        "            path=trainortest+\" 2ch masks\"\n",
        "        for file in f[path]:  \n",
        "          files.append(file)\n",
        "        return files\n",
        "\n",
        "\n",
        "    def augment(self, frame, mask):\n",
        "      seed=random.randint(0,100)\n",
        "      imgaug.seed(seed)\n",
        "      mask = SegmentationMapsOnImage(mask, mask.shape)\n",
        "      frame_aug, mask_aug = self.augment_params(image=frame, segmentation_maps=mask)\n",
        "      mask_aug = mask_aug.get_arr()\n",
        "      return frame_aug, mask_aug\n",
        "    \n",
        "    def __len__(self):\n",
        "        \"\"\"\n",
        "        Return the length of the dataset (length of all files)\n",
        "        \"\"\"\n",
        "        return math.ceil(len(self.all_masks) / self.batch_size)\n",
        "    \n",
        "    \n",
        "    def __getitem__(self, idx):\n",
        "        \"\"\"\n",
        "        Given an index return the (augmented) frame and corresponding mask\n",
        "        \"\"\"\n",
        "\n",
        "        i = idx * self.batch_size\n",
        "        frames = self.all_frames[i : i + self.batch_size]\n",
        "        masks = self.all_masks[i : i + self.batch_size]\n",
        "        x = np.zeros((self.batch_size,) + self.img_size +(1,) , dtype=\"float32\")\n",
        "        for j, frame in enumerate(frames):\n",
        "          x[j] = frame\n",
        "        \n",
        "        y = np.zeros((self.batch_size,) + self.img_size+(1,) , dtype=\"int32\")\n",
        "        for j, mask in enumerate(masks):\n",
        "          y[j] = mask\n",
        "\n",
        "        for j in range(self.batch_size):\n",
        "          if self.augment_params:\n",
        "            x[j], y[j] = self.augment(x[j], y[j])\n",
        "        return x,y\n",
        "        #return np.expand_dims(slice, 0), np.expand_dims(mask, 0)\n",
        "\n",
        "    def on_epoch_end(self):\n",
        "        seed=random.randint(0,100)\n",
        "        self.all_frames=shuffle(self.all_frames,random_state=seed)\n",
        "        self.all_masks=shuffle(self.all_masks,random_state=seed)\n",
        " "
      ],
      "metadata": {
        "id": "f4KwrH-2xGAu"
      },
      "execution_count": 12,
      "outputs": []
    },
    {
      "cell_type": "code",
      "source": [
        "seq = iaa.Sequential([\n",
        "    iaa.Affine(scale=(0.85, 1.15), # zoom in or out\n",
        "               rotate=(-45, 45)),  # rotate up to 45 degrees\n",
        "    iaa.ElasticTransformation()\n",
        "                ])"
      ],
      "metadata": {
        "id": "3-EbnQdcxGDt"
      },
      "execution_count": 13,
      "outputs": []
    },
    {
      "cell_type": "code",
      "source": [
        "# Create the dataset object for frames/masks with augmentation for training\n",
        "train_4C_generator = LoadDataset('4C','train', seq)\n",
        "#train_2C_generator = LoadDataset('2C','train', seq)"
      ],
      "metadata": {
        "id": "Jnz6WgrTxGHF"
      },
      "execution_count": 14,
      "outputs": []
    },
    {
      "cell_type": "code",
      "source": [
        "# Create the dataset object for frames/masks without augmentation for validation\n",
        "test_4C_generator = LoadDataset('4C','test' ,None)\n",
        "#test_2C_generator = LoadDataset('2C','test' None)"
      ],
      "metadata": {
        "id": "7lwRwgfg2xNd"
      },
      "execution_count": 15,
      "outputs": []
    },
    {
      "cell_type": "code",
      "source": [
        "train_4C_generator"
      ],
      "metadata": {
        "colab": {
          "base_uri": "https://localhost:8080/"
        },
        "id": "uI8t_TRcDP21",
        "outputId": "7494d289-b1ae-48b5-c84e-889b81cd99d9"
      },
      "execution_count": 16,
      "outputs": [
        {
          "output_type": "execute_result",
          "data": {
            "text/plain": [
              "<__main__.LoadDataset at 0x7fa9aae889d0>"
            ]
          },
          "metadata": {},
          "execution_count": 16
        }
      ]
    },
    {
      "cell_type": "code",
      "source": [
        "frames, masks = train_4C_generator[0]\n",
        "frames.shape,masks.shape"
      ],
      "metadata": {
        "id": "Y_xgpzUcUP1j",
        "colab": {
          "base_uri": "https://localhost:8080/"
        },
        "outputId": "0c8ee426-bc4c-4968-b4ed-e30de24042f1"
      },
      "execution_count": 17,
      "outputs": [
        {
          "output_type": "execute_result",
          "data": {
            "text/plain": [
              "((8, 384, 384, 1), (8, 384, 384, 1))"
            ]
          },
          "metadata": {},
          "execution_count": 17
        }
      ]
    },
    {
      "cell_type": "code",
      "source": [
        "len(train_4C_generator),len(test_4C_generator)"
      ],
      "metadata": {
        "colab": {
          "base_uri": "https://localhost:8080/"
        },
        "id": "FGDu7jfVHv-f",
        "outputId": "5345c578-6e39-4b2e-a145-3efaf543f3e2"
      },
      "execution_count": 18,
      "outputs": [
        {
          "output_type": "execute_result",
          "data": {
            "text/plain": [
              "(113, 13)"
            ]
          },
          "metadata": {},
          "execution_count": 18
        }
      ]
    },
    {
      "cell_type": "code",
      "source": [
        "#Sample visualisation\n",
        "frame, mask = frames[0],masks[0]\n",
        "mask_ = np.ma.masked_where(mask==0, mask)\n",
        "plt.imshow(frame, cmap=\"bone\")\n",
        "plt.imshow(mask_, cmap=\"Blues\")\n",
        "plt.axis(\"off\")\n",
        "plt.show()"
      ],
      "metadata": {
        "colab": {
          "base_uri": "https://localhost:8080/",
          "height": 421
        },
        "id": "3anldRfjoKSq",
        "outputId": "00bf4211-f2ab-4974-830f-a3933615ca94"
      },
      "execution_count": 19,
      "outputs": [
        {
          "output_type": "display_data",
          "data": {
            "text/plain": [
              "<Figure size 504x648 with 1 Axes>"
            ],
            "image/png": "[encoded data removed]"
          },
          "metadata": {
            "needs_background": "light"
          }
        }
      ]
    },
    {
      "cell_type": "markdown",
      "source": [
        "### U-Net Model Training"
      ],
      "metadata": {
        "id": "dOzbkFqAeHrG"
      }
    },
    {
      "cell_type": "code",
      "source": [
        "model = unet()\n",
        "model.summary()"
      ],
      "metadata": {
        "id": "5jmALMotDQDL",
        "colab": {
          "base_uri": "https://localhost:8080/"
        },
        "outputId": "d569819d-4c7c-4d10-e677-5427395b802b"
      },
      "execution_count": 20,
      "outputs": [
        {
          "output_type": "stream",
          "name": "stdout",
          "text": [
            "Model: \"UNET\"\n",
            "__________________________________________________________________________________________________\n",
            " Layer (type)                   Output Shape         Param #     Connected to                     \n",
            "==================================================================================================\n",
            " input_1 (InputLayer)           [(None, 384, 384, 1  0           []                               \n",
            "                                )]                                                                \n",
            "                                                                                                  \n",
            " conv2d (Conv2D)                (None, 384, 384, 64  640         ['input_1[0][0]']                \n",
            "                                )                                                                 \n",
            "                                                                                                  \n",
            " batch_normalization (BatchNorm  (None, 384, 384, 64  256        ['conv2d[0][0]']                 \n",
            " alization)                     )                                                                 \n",
            "                                                                                                  \n",
            " activation (Activation)        (None, 384, 384, 64  0           ['batch_normalization[0][0]']    \n",
            "                                )                                                                 \n",
            "                                                                                                  \n",
            " conv2d_1 (Conv2D)              (None, 384, 384, 64  36928       ['activation[0][0]']             \n",
            "                                )                                                                 \n",
            "                                                                                                  \n",
            " batch_normalization_1 (BatchNo  (None, 384, 384, 64  256        ['conv2d_1[0][0]']               \n",
            " rmalization)                   )                                                                 \n",
            "                                                                                                  \n",
            " activation_1 (Activation)      (None, 384, 384, 64  0           ['batch_normalization_1[0][0]']  \n",
            "                                )                                                                 \n",
            "                                                                                                  \n",
            " max_pooling2d (MaxPooling2D)   (None, 192, 192, 64  0           ['activation_1[0][0]']           \n",
            "                                )                                                                 \n",
            "                                                                                                  \n",
            " conv2d_2 (Conv2D)              (None, 192, 192, 12  73856       ['max_pooling2d[0][0]']          \n",
            "                                8)                                                                \n",
            "                                                                                                  \n",
            " batch_normalization_2 (BatchNo  (None, 192, 192, 12  512        ['conv2d_2[0][0]']               \n",
            " rmalization)                   8)                                                                \n",
            "                                                                                                  \n",
            " activation_2 (Activation)      (None, 192, 192, 12  0           ['batch_normalization_2[0][0]']  \n",
            "                                8)                                                                \n",
            "                                                                                                  \n",
            " conv2d_3 (Conv2D)              (None, 192, 192, 12  147584      ['activation_2[0][0]']           \n",
            "                                8)                                                                \n",
            "                                                                                                  \n",
            " batch_normalization_3 (BatchNo  (None, 192, 192, 12  512        ['conv2d_3[0][0]']               \n",
            " rmalization)                   8)                                                                \n",
            "                                                                                                  \n",
            " activation_3 (Activation)      (None, 192, 192, 12  0           ['batch_normalization_3[0][0]']  \n",
            "                                8)                                                                \n",
            "                                                                                                  \n",
            " max_pooling2d_1 (MaxPooling2D)  (None, 96, 96, 128)  0          ['activation_3[0][0]']           \n",
            "                                                                                                  \n",
            " conv2d_4 (Conv2D)              (None, 96, 96, 256)  295168      ['max_pooling2d_1[0][0]']        \n",
            "                                                                                                  \n",
            " batch_normalization_4 (BatchNo  (None, 96, 96, 256)  1024       ['conv2d_4[0][0]']               \n",
            " rmalization)                                                                                     \n",
            "                                                                                                  \n",
            " activation_4 (Activation)      (None, 96, 96, 256)  0           ['batch_normalization_4[0][0]']  \n",
            "                                                                                                  \n",
            " conv2d_5 (Conv2D)              (None, 96, 96, 256)  590080      ['activation_4[0][0]']           \n",
            "                                                                                                  \n",
            " batch_normalization_5 (BatchNo  (None, 96, 96, 256)  1024       ['conv2d_5[0][0]']               \n",
            " rmalization)                                                                                     \n",
            "                                                                                                  \n",
            " activation_5 (Activation)      (None, 96, 96, 256)  0           ['batch_normalization_5[0][0]']  \n",
            "                                                                                                  \n",
            " max_pooling2d_2 (MaxPooling2D)  (None, 48, 48, 256)  0          ['activation_5[0][0]']           \n",
            "                                                                                                  \n",
            " conv2d_6 (Conv2D)              (None, 48, 48, 512)  1180160     ['max_pooling2d_2[0][0]']        \n",
            "                                                                                                  \n",
            " batch_normalization_6 (BatchNo  (None, 48, 48, 512)  2048       ['conv2d_6[0][0]']               \n",
            " rmalization)                                                                                     \n",
            "                                                                                                  \n",
            " activation_6 (Activation)      (None, 48, 48, 512)  0           ['batch_normalization_6[0][0]']  \n",
            "                                                                                                  \n",
            " conv2d_7 (Conv2D)              (None, 48, 48, 512)  2359808     ['activation_6[0][0]']           \n",
            "                                                                                                  \n",
            " batch_normalization_7 (BatchNo  (None, 48, 48, 512)  2048       ['conv2d_7[0][0]']               \n",
            " rmalization)                                                                                     \n",
            "                                                                                                  \n",
            " activation_7 (Activation)      (None, 48, 48, 512)  0           ['batch_normalization_7[0][0]']  \n",
            "                                                                                                  \n",
            " max_pooling2d_3 (MaxPooling2D)  (None, 24, 24, 512)  0          ['activation_7[0][0]']           \n",
            "                                                                                                  \n",
            " conv2d_8 (Conv2D)              (None, 24, 24, 1024  4719616     ['max_pooling2d_3[0][0]']        \n",
            "                                )                                                                 \n",
            "                                                                                                  \n",
            " batch_normalization_8 (BatchNo  (None, 24, 24, 1024  4096       ['conv2d_8[0][0]']               \n",
            " rmalization)                   )                                                                 \n",
            "                                                                                                  \n",
            " activation_8 (Activation)      (None, 24, 24, 1024  0           ['batch_normalization_8[0][0]']  \n",
            "                                )                                                                 \n",
            "                                                                                                  \n",
            " conv2d_9 (Conv2D)              (None, 24, 24, 1024  9438208     ['activation_8[0][0]']           \n",
            "                                )                                                                 \n",
            "                                                                                                  \n",
            " batch_normalization_9 (BatchNo  (None, 24, 24, 1024  4096       ['conv2d_9[0][0]']               \n",
            " rmalization)                   )                                                                 \n",
            "                                                                                                  \n",
            " activation_9 (Activation)      (None, 24, 24, 1024  0           ['batch_normalization_9[0][0]']  \n",
            "                                )                                                                 \n",
            "                                                                                                  \n",
            " conv2d_transpose (Conv2DTransp  (None, 48, 48, 512)  2097664    ['activation_9[0][0]']           \n",
            " ose)                                                                                             \n",
            "                                                                                                  \n",
            " concatenate (Concatenate)      (None, 48, 48, 1024  0           ['conv2d_transpose[0][0]',       \n",
            "                                )                                 'activation_7[0][0]']           \n",
            "                                                                                                  \n",
            " conv2d_10 (Conv2D)             (None, 48, 48, 512)  4719104     ['concatenate[0][0]']            \n",
            "                                                                                                  \n",
            " batch_normalization_10 (BatchN  (None, 48, 48, 512)  2048       ['conv2d_10[0][0]']              \n",
            " ormalization)                                                                                    \n",
            "                                                                                                  \n",
            " activation_10 (Activation)     (None, 48, 48, 512)  0           ['batch_normalization_10[0][0]'] \n",
            "                                                                                                  \n",
            " conv2d_11 (Conv2D)             (None, 48, 48, 512)  2359808     ['activation_10[0][0]']          \n",
            "                                                                                                  \n",
            " batch_normalization_11 (BatchN  (None, 48, 48, 512)  2048       ['conv2d_11[0][0]']              \n",
            " ormalization)                                                                                    \n",
            "                                                                                                  \n",
            " activation_11 (Activation)     (None, 48, 48, 512)  0           ['batch_normalization_11[0][0]'] \n",
            "                                                                                                  \n",
            " conv2d_transpose_1 (Conv2DTran  (None, 96, 96, 256)  524544     ['activation_11[0][0]']          \n",
            " spose)                                                                                           \n",
            "                                                                                                  \n",
            " concatenate_1 (Concatenate)    (None, 96, 96, 512)  0           ['conv2d_transpose_1[0][0]',     \n",
            "                                                                  'activation_5[0][0]']           \n",
            "                                                                                                  \n",
            " conv2d_12 (Conv2D)             (None, 96, 96, 256)  1179904     ['concatenate_1[0][0]']          \n",
            "                                                                                                  \n",
            " batch_normalization_12 (BatchN  (None, 96, 96, 256)  1024       ['conv2d_12[0][0]']              \n",
            " ormalization)                                                                                    \n",
            "                                                                                                  \n",
            " activation_12 (Activation)     (None, 96, 96, 256)  0           ['batch_normalization_12[0][0]'] \n",
            "                                                                                                  \n",
            " conv2d_13 (Conv2D)             (None, 96, 96, 256)  590080      ['activation_12[0][0]']          \n",
            "                                                                                                  \n",
            " batch_normalization_13 (BatchN  (None, 96, 96, 256)  1024       ['conv2d_13[0][0]']              \n",
            " ormalization)                                                                                    \n",
            "                                                                                                  \n",
            " activation_13 (Activation)     (None, 96, 96, 256)  0           ['batch_normalization_13[0][0]'] \n",
            "                                                                                                  \n",
            " conv2d_transpose_2 (Conv2DTran  (None, 192, 192, 12  131200     ['activation_13[0][0]']          \n",
            " spose)                         8)                                                                \n",
            "                                                                                                  \n",
            " concatenate_2 (Concatenate)    (None, 192, 192, 25  0           ['conv2d_transpose_2[0][0]',     \n",
            "                                6)                                'activation_3[0][0]']           \n",
            "                                                                                                  \n",
            " conv2d_14 (Conv2D)             (None, 192, 192, 12  295040      ['concatenate_2[0][0]']          \n",
            "                                8)                                                                \n",
            "                                                                                                  \n",
            " batch_normalization_14 (BatchN  (None, 192, 192, 12  512        ['conv2d_14[0][0]']              \n",
            " ormalization)                  8)                                                                \n",
            "                                                                                                  \n",
            " activation_14 (Activation)     (None, 192, 192, 12  0           ['batch_normalization_14[0][0]'] \n",
            "                                8)                                                                \n",
            "                                                                                                  \n",
            " conv2d_15 (Conv2D)             (None, 192, 192, 12  147584      ['activation_14[0][0]']          \n",
            "                                8)                                                                \n",
            "                                                                                                  \n",
            " batch_normalization_15 (BatchN  (None, 192, 192, 12  512        ['conv2d_15[0][0]']              \n",
            " ormalization)                  8)                                                                \n",
            "                                                                                                  \n",
            " activation_15 (Activation)     (None, 192, 192, 12  0           ['batch_normalization_15[0][0]'] \n",
            "                                8)                                                                \n",
            "                                                                                                  \n",
            " conv2d_transpose_3 (Conv2DTran  (None, 384, 384, 64  32832      ['activation_15[0][0]']          \n",
            " spose)                         )                                                                 \n",
            "                                                                                                  \n",
            " concatenate_3 (Concatenate)    (None, 384, 384, 12  0           ['conv2d_transpose_3[0][0]',     \n",
            "                                8)                                'activation_1[0][0]']           \n",
            "                                                                                                  \n",
            " conv2d_16 (Conv2D)             (None, 384, 384, 64  73792       ['concatenate_3[0][0]']          \n",
            "                                )                                                                 \n",
            "                                                                                                  \n",
            " batch_normalization_16 (BatchN  (None, 384, 384, 64  256        ['conv2d_16[0][0]']              \n",
            " ormalization)                  )                                                                 \n",
            "                                                                                                  \n",
            " activation_16 (Activation)     (None, 384, 384, 64  0           ['batch_normalization_16[0][0]'] \n",
            "                                )                                                                 \n",
            "                                                                                                  \n",
            " conv2d_17 (Conv2D)             (None, 384, 384, 64  36928       ['activation_16[0][0]']          \n",
            "                                )                                                                 \n",
            "                                                                                                  \n",
            " batch_normalization_17 (BatchN  (None, 384, 384, 64  256        ['conv2d_17[0][0]']              \n",
            " ormalization)                  )                                                                 \n",
            "                                                                                                  \n",
            " activation_17 (Activation)     (None, 384, 384, 64  0           ['batch_normalization_17[0][0]'] \n",
            "                                )                                                                 \n",
            "                                                                                                  \n",
            " conv2d_18 (Conv2D)             (None, 384, 384, 1)  65          ['activation_17[0][0]']          \n",
            "                                                                                                  \n",
            "==================================================================================================\n",
            "Total params: 31,054,145\n",
            "Trainable params: 31,042,369\n",
            "Non-trainable params: 11,776\n",
            "__________________________________________________________________________________________________\n"
          ]
        }
      ]
    },
    {
      "cell_type": "code",
      "source": [
        "def dice_coefficients(y_true, y_pred, epsilon=1e-6): \n",
        "    y_true=tf.cast(y_true, tf.float32)\n",
        "    y_pred=tf.cast(y_pred, tf.float32)\n",
        "    # skip the batch and class axis for calculating Dice score\n",
        "    axes = tuple(range(1, len(y_pred.shape)-1)) \n",
        "    numerator = 2. * K.sum(y_pred * y_true, axes)\n",
        "    denominator = K.sum(K.square(y_pred) + K.square(y_true), axes)\n",
        "    \n",
        "    return K.mean((numerator + epsilon) / (denominator + epsilon)) # average over classes and batch\n",
        "\n",
        "\n",
        "\n",
        "# def dice_coefficients(y_true, y_pred):\n",
        "#     y_true=tf.cast(y_true, tf.float32)\n",
        "#     y_pred=tf.cast(y_pred, tf.float32)\n",
        "#     smooth=100\n",
        "#     smooth = tf.cast(smooth, y_pred.dtype)\n",
        "#     y_true_flatten = K.flatten(y_true)\n",
        "#     y_pred_flatten = K.flatten(y_pred)\n",
        "\n",
        "#     intersection = K.sum(y_true_flatten * y_pred_flatten)\n",
        "#     union = K.sum(y_true_flatten) + K.sum(y_pred_flatten)\n",
        "#     return (2 * intersection + smooth) / (union + smooth)\n",
        "\n",
        "\n",
        "def dice_loss(y_true, y_pred):\n",
        "    return 1-dice_coefficients(y_true, y_pred)\n",
        "\n",
        "# def iou(y_true, y_pred, smooth=100):\n",
        "#     intersection = K.sum(y_true * y_pred)\n",
        "#     sum = K.sum(y_true + y_pred)\n",
        "#     iou = (intersection + smooth) / (sum - intersection + smooth)\n",
        "#     return iou\n",
        "\n",
        "\n",
        "# smooth = 1e-15\n",
        "# def dice_coef(y_true, y_pred):\n",
        "#     y_true=tf.cast(y_true, tf.float32)\n",
        "#     y_pred=tf.cast(y_pred, tf.float32)\n",
        "#     y_true = tf.keras.layers.Flatten()(y_true)\n",
        "#     y_pred = tf.keras.layers.Flatten()(y_pred)\n",
        "#     intersection = tf.reduce_sum(y_true * y_pred)\n",
        "#     return (2. * intersection + smooth) / (tf.reduce_sum(y_true) + tf.reduce_sum(y_pred) + smooth)\n",
        "\n",
        "# def dice_loss(y_true, y_pred):\n",
        "#     return 1.0 - dice_coef(y_true, y_pred)\n",
        "\n",
        "\n",
        "# def iou(y_true, y_pred):\n",
        "#     intersection = K.sum(y_true * y_pred)\n",
        "#     sum = K.sum(y_true + y_pred)\n",
        "#     iou = (intersection + smooth) / (sum - intersection + smooth)\n",
        "#     return iou\n",
        "\n"
      ],
      "metadata": {
        "id": "GK22g_cgYy13"
      },
      "execution_count": 21,
      "outputs": []
    },
    {
      "cell_type": "code",
      "source": [
        "EPOCHS = 20\n",
        "BATCH_SIZE = 8\n",
        "learning_rate = 1e-4\n",
        "smooth=100"
      ],
      "metadata": {
        "id": "SuAzwvtrRdig"
      },
      "execution_count": 22,
      "outputs": []
    },
    {
      "cell_type": "code",
      "source": [
        "opt = Adam(learning_rate=learning_rate)\n",
        "model.compile(optimizer=opt, loss=dice_loss, metrics=[dice_coefficients])\n",
        "#callbacks = [ModelCheckpoint('unet.hdf5', verbose=1, save_best_only=True)]\n",
        "callbacks = [ModelCheckpoint(MODEL_PATH, verbose=1, save_best_only=True),\n",
        "        ReduceLROnPlateau(monitor='val_loss', factor=0.1, patience=5, min_lr=1e-7, verbose=1),\n",
        "        CSVLogger(CSV_PATH),\n",
        "        EarlyStopping(monitor='val_loss', patience=20, restore_best_weights=False),\n",
        "    ]"
      ],
      "metadata": {
        "id": "z-_Izs_nRUQR"
      },
      "execution_count": 23,
      "outputs": []
    },
    {
      "cell_type": "code",
      "source": [
        "# history = model.fit(x=train_4C_generator,epochs=EPOCHS, \n",
        "#                     callbacks=callbacks,validation_data = test_4C_generator)\n"
      ],
      "metadata": {
        "id": "KS8FPbeKSoBJ"
      },
      "execution_count": null,
      "outputs": []
    },
    {
      "cell_type": "code",
      "source": [
        "model=load_model(MODEL_PATH,compile=False)"
      ],
      "metadata": {
        "id": "j318XS8Q9Bef"
      },
      "execution_count": 26,
      "outputs": []
    },
    {
      "cell_type": "code",
      "source": [
        "model.compile(optimizer=opt, loss=dice_loss, metrics=[dice_coefficients])\n",
        "history = model.fit(x=train_4C_generator,epochs=EPOCHS, \n",
        "                    callbacks=callbacks,validation_data = test_4C_generator)"
      ],
      "metadata": {
        "id": "P8nuI714RUTV",
        "colab": {
          "base_uri": "https://localhost:8080/"
        },
        "outputId": "a904f90f-9d5f-4971-ec4e-a6e0400a1b76"
      },
      "execution_count": 28,
      "outputs": [
        {
          "output_type": "stream",
          "name": "stdout",
          "text": [
            "Epoch 1/20\n",
            "113/113 [==============================] - ETA: 0s - loss: 0.2974 - dice_coefficients: 0.7026\n",
            "Epoch 1: val_loss improved from inf to 0.33237, saving model to /content/drive/MyDrive/Medical_Imaging/LVEF/Datasets/CAMUS/Original/database/Preprocessed/model.h5\n",
            "113/113 [==============================] - 169s 1s/step - loss: 0.2974 - dice_coefficients: 0.7026 - val_loss: 0.3324 - val_dice_coefficients: 0.6676 - lr: 1.0000e-04\n",
            "Epoch 2/20\n",
            "113/113 [==============================] - ETA: 0s - loss: 0.2952 - dice_coefficients: 0.7048\n",
            "Epoch 2: val_loss improved from 0.33237 to 0.32743, saving model to /content/drive/MyDrive/Medical_Imaging/LVEF/Datasets/CAMUS/Original/database/Preprocessed/model.h5\n",
            "113/113 [==============================] - 133s 1s/step - loss: 0.2952 - dice_coefficients: 0.7048 - val_loss: 0.3274 - val_dice_coefficients: 0.6726 - lr: 1.0000e-04\n",
            "Epoch 3/20\n",
            "113/113 [==============================] - ETA: 0s - loss: 0.2947 - dice_coefficients: 0.7053\n",
            "Epoch 3: val_loss improved from 0.32743 to 0.32420, saving model to /content/drive/MyDrive/Medical_Imaging/LVEF/Datasets/CAMUS/Original/database/Preprocessed/model.h5\n",
            "113/113 [==============================] - 133s 1s/step - loss: 0.2947 - dice_coefficients: 0.7053 - val_loss: 0.3242 - val_dice_coefficients: 0.6758 - lr: 1.0000e-04\n",
            "Epoch 4/20\n",
            "113/113 [==============================] - ETA: 0s - loss: 0.2928 - dice_coefficients: 0.7072\n",
            "Epoch 4: val_loss did not improve from 0.32420\n",
            "113/113 [==============================] - 129s 1s/step - loss: 0.2928 - dice_coefficients: 0.7072 - val_loss: 0.3279 - val_dice_coefficients: 0.6721 - lr: 1.0000e-04\n",
            "Epoch 5/20\n",
            "113/113 [==============================] - ETA: 0s - loss: 0.2938 - dice_coefficients: 0.7062\n",
            "Epoch 5: val_loss did not improve from 0.32420\n",
            "113/113 [==============================] - 129s 1s/step - loss: 0.2938 - dice_coefficients: 0.7062 - val_loss: 0.3243 - val_dice_coefficients: 0.6757 - lr: 1.0000e-04\n",
            "Epoch 6/20\n",
            "113/113 [==============================] - ETA: 0s - loss: 0.2925 - dice_coefficients: 0.7075\n",
            "Epoch 6: val_loss did not improve from 0.32420\n",
            "113/113 [==============================] - 129s 1s/step - loss: 0.2925 - dice_coefficients: 0.7075 - val_loss: 0.3284 - val_dice_coefficients: 0.6716 - lr: 1.0000e-04\n",
            "Epoch 7/20\n",
            "113/113 [==============================] - ETA: 0s - loss: 0.2926 - dice_coefficients: 0.7074\n",
            "Epoch 7: val_loss improved from 0.32420 to 0.32359, saving model to /content/drive/MyDrive/Medical_Imaging/LVEF/Datasets/CAMUS/Original/database/Preprocessed/model.h5\n",
            "113/113 [==============================] - 133s 1s/step - loss: 0.2926 - dice_coefficients: 0.7074 - val_loss: 0.3236 - val_dice_coefficients: 0.6764 - lr: 1.0000e-04\n",
            "Epoch 8/20\n",
            "113/113 [==============================] - ETA: 0s - loss: 0.2914 - dice_coefficients: 0.7086\n",
            "Epoch 8: val_loss did not improve from 0.32359\n",
            "113/113 [==============================] - 129s 1s/step - loss: 0.2914 - dice_coefficients: 0.7086 - val_loss: 0.4331 - val_dice_coefficients: 0.5669 - lr: 1.0000e-04\n",
            "Epoch 9/20\n",
            "113/113 [==============================] - ETA: 0s - loss: 0.2923 - dice_coefficients: 0.7077\n",
            "Epoch 9: val_loss did not improve from 0.32359\n",
            "113/113 [==============================] - 129s 1s/step - loss: 0.2923 - dice_coefficients: 0.7077 - val_loss: 0.3265 - val_dice_coefficients: 0.6735 - lr: 1.0000e-04\n",
            "Epoch 10/20\n",
            "113/113 [==============================] - ETA: 0s - loss: 0.2906 - dice_coefficients: 0.7094\n",
            "Epoch 10: val_loss did not improve from 0.32359\n",
            "113/113 [==============================] - 129s 1s/step - loss: 0.2906 - dice_coefficients: 0.7094 - val_loss: 0.3377 - val_dice_coefficients: 0.6623 - lr: 1.0000e-04\n",
            "Epoch 11/20\n",
            "113/113 [==============================] - ETA: 0s - loss: 0.2922 - dice_coefficients: 0.7078\n",
            "Epoch 11: val_loss did not improve from 0.32359\n",
            "113/113 [==============================] - 129s 1s/step - loss: 0.2922 - dice_coefficients: 0.7078 - val_loss: 0.3252 - val_dice_coefficients: 0.6748 - lr: 1.0000e-04\n",
            "Epoch 12/20\n",
            "113/113 [==============================] - ETA: 0s - loss: 0.2910 - dice_coefficients: 0.7090\n",
            "Epoch 12: val_loss did not improve from 0.32359\n",
            "\n",
            "Epoch 12: ReduceLROnPlateau reducing learning rate to 9.999999747378752e-06.\n",
            "113/113 [==============================] - 129s 1s/step - loss: 0.2910 - dice_coefficients: 0.7090 - val_loss: 0.3237 - val_dice_coefficients: 0.6763 - lr: 1.0000e-04\n",
            "Epoch 13/20\n",
            "113/113 [==============================] - ETA: 0s - loss: 0.2871 - dice_coefficients: 0.7129\n",
            "Epoch 13: val_loss improved from 0.32359 to 0.31540, saving model to /content/drive/MyDrive/Medical_Imaging/LVEF/Datasets/CAMUS/Original/database/Preprocessed/model.h5\n",
            "113/113 [==============================] - 134s 1s/step - loss: 0.2871 - dice_coefficients: 0.7129 - val_loss: 0.3154 - val_dice_coefficients: 0.6846 - lr: 1.0000e-05\n",
            "Epoch 14/20\n",
            "113/113 [==============================] - ETA: 0s - loss: 0.2864 - dice_coefficients: 0.7136\n",
            "Epoch 14: val_loss improved from 0.31540 to 0.31404, saving model to /content/drive/MyDrive/Medical_Imaging/LVEF/Datasets/CAMUS/Original/database/Preprocessed/model.h5\n",
            "113/113 [==============================] - 134s 1s/step - loss: 0.2864 - dice_coefficients: 0.7136 - val_loss: 0.3140 - val_dice_coefficients: 0.6860 - lr: 1.0000e-05\n",
            "Epoch 15/20\n",
            "113/113 [==============================] - ETA: 0s - loss: 0.2861 - dice_coefficients: 0.7139\n",
            "Epoch 15: val_loss did not improve from 0.31404\n",
            "113/113 [==============================] - 129s 1s/step - loss: 0.2861 - dice_coefficients: 0.7139 - val_loss: 0.3142 - val_dice_coefficients: 0.6858 - lr: 1.0000e-05\n",
            "Epoch 16/20\n",
            "113/113 [==============================] - ETA: 0s - loss: 0.2858 - dice_coefficients: 0.7142\n",
            "Epoch 16: val_loss did not improve from 0.31404\n",
            "113/113 [==============================] - 129s 1s/step - loss: 0.2858 - dice_coefficients: 0.7142 - val_loss: 0.3155 - val_dice_coefficients: 0.6845 - lr: 1.0000e-05\n",
            "Epoch 17/20\n",
            "113/113 [==============================] - ETA: 0s - loss: 0.2853 - dice_coefficients: 0.7147\n",
            "Epoch 17: val_loss improved from 0.31404 to 0.31371, saving model to /content/drive/MyDrive/Medical_Imaging/LVEF/Datasets/CAMUS/Original/database/Preprocessed/model.h5\n",
            "113/113 [==============================] - 133s 1s/step - loss: 0.2853 - dice_coefficients: 0.7147 - val_loss: 0.3137 - val_dice_coefficients: 0.6863 - lr: 1.0000e-05\n",
            "Epoch 18/20\n",
            "113/113 [==============================] - ETA: 0s - loss: 0.2854 - dice_coefficients: 0.7146\n",
            "Epoch 18: val_loss did not improve from 0.31371\n",
            "113/113 [==============================] - 129s 1s/step - loss: 0.2854 - dice_coefficients: 0.7146 - val_loss: 0.3143 - val_dice_coefficients: 0.6857 - lr: 1.0000e-05\n",
            "Epoch 19/20\n",
            "113/113 [==============================] - ETA: 0s - loss: 0.2854 - dice_coefficients: 0.7146\n",
            "Epoch 19: val_loss did not improve from 0.31371\n",
            "113/113 [==============================] - 129s 1s/step - loss: 0.2854 - dice_coefficients: 0.7146 - val_loss: 0.3169 - val_dice_coefficients: 0.6831 - lr: 1.0000e-05\n",
            "Epoch 20/20\n",
            "113/113 [==============================] - ETA: 0s - loss: 0.2851 - dice_coefficients: 0.7149\n",
            "Epoch 20: val_loss improved from 0.31371 to 0.31351, saving model to /content/drive/MyDrive/Medical_Imaging/LVEF/Datasets/CAMUS/Original/database/Preprocessed/model.h5\n",
            "113/113 [==============================] - 134s 1s/step - loss: 0.2851 - dice_coefficients: 0.7149 - val_loss: 0.3135 - val_dice_coefficients: 0.6865 - lr: 1.0000e-05\n"
          ]
        }
      ]
    },
    {
      "cell_type": "code",
      "source": [
        "#Trained for 40 epochs currently with 4C ED and ES images with masks"
      ],
      "metadata": {
        "id": "XTB6pvPnRUW_"
      },
      "execution_count": null,
      "outputs": []
    },
    {
      "cell_type": "code",
      "source": [],
      "metadata": {
        "id": "jNxDtVMZRUaN"
      },
      "execution_count": null,
      "outputs": []
    },
    {
      "cell_type": "code",
      "source": [],
      "metadata": {
        "id": "aY6wEKhYRUd1"
      },
      "execution_count": null,
      "outputs": []
    },
    {
      "cell_type": "code",
      "source": [],
      "metadata": {
        "id": "e36BMlTW2VAT"
      },
      "execution_count": null,
      "outputs": []
    },
    {
      "cell_type": "code",
      "source": [],
      "metadata": {
        "id": "vq9EV3xc2VDT"
      },
      "execution_count": null,
      "outputs": []
    },
    {
      "cell_type": "code",
      "source": [],
      "metadata": {
        "id": "pp01Nrlg2VGK"
      },
      "execution_count": null,
      "outputs": []
    },
    {
      "cell_type": "code",
      "source": [],
      "metadata": {
        "id": "QDeZSMYW2VJC"
      },
      "execution_count": null,
      "outputs": []
    },
    {
      "cell_type": "code",
      "source": [],
      "metadata": {
        "id": "EJlOrh5-2VMH"
      },
      "execution_count": null,
      "outputs": []
    },
    {
      "cell_type": "code",
      "source": [],
      "metadata": {
        "id": "RivEajQi2VOc"
      },
      "execution_count": null,
      "outputs": []
    },
    {
      "cell_type": "code",
      "source": [],
      "metadata": {
        "id": "_lrfQzw82VR-"
      },
      "execution_count": null,
      "outputs": []
    }
  ]
}