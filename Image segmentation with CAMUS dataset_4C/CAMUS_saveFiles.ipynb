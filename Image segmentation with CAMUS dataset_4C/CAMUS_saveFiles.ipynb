{
 "cells": [
  {
   "cell_type": "markdown",
   "metadata": {
    "id": "MbTnZQnvOkjf"
   },
   "source": [
    "### Preprocessing of the CAMUS dataset"
   ]
  },
  {
   "cell_type": "code",
   "execution_count": null,
   "metadata": {
    "id": "k8OQ4oLBOfpu"
   },
   "outputs": [],
   "source": [
    "# # Get the dataset from the drive and unzip it\n",
    "# import zipfile\n",
    "# zip_ref=zipfile.ZipFile('/content/drive/MyDrive/Medical_Imaging/LVEF/Datasets/CAMUS/Original/database-001.zip')\n",
    "# zip_ref.extractall('/content/drive/MyDrive/Medical_Imaging/LVEF/Datasets/CAMUS/Original')\n",
    "# zip_ref.close()\n"
   ]
  },
  {
   "cell_type": "markdown",
   "metadata": {
    "id": "aSBEsCFVPiDQ"
   },
   "source": [
    "#### Import required libraries"
   ]
  },
  {
   "cell_type": "code",
   "execution_count": 45,
   "metadata": {
    "colab": {
     "base_uri": "https://localhost:8080/"
    },
    "id": "5BwHp9e-TIs0",
    "outputId": "5759a71d-355f-400e-8113-239fe8ad86be"
   },
   "outputs": [
    {
     "name": "stdout",
     "output_type": "stream",
     "text": [
      "Looking in indexes: https://pypi.org/simple, https://us-python.pkg.dev/colab-wheels/public/simple/\n",
      "Requirement already satisfied: SimpleITK in /usr/local/lib/python3.8/dist-packages (2.2.1)\n"
     ]
    }
   ],
   "source": [
    "!pip install SimpleITK"
   ]
  },
  {
   "cell_type": "code",
   "execution_count": 74,
   "metadata": {
    "id": "OLHvGZVBOtkV"
   },
   "outputs": [],
   "source": [
    "import os\n",
    "from os import path\n",
    "import numpy as np \n",
    "import pandas as pd \n",
    "import time\n",
    "from contextlib import contextmanager # timer\n",
    "from functools import partial\n",
    "import seaborn as sns\n",
    "#To open the .mhd files(MetaImage MetaHeader files)\n",
    "import SimpleITK as sitk\n",
    "import matplotlib.pylab as plt\n",
    "import cv2\n",
    "from tqdm.notebook import tqdm\n",
    "#Copy the files to preprocessed folder\n",
    "import shutil\n",
    "\n",
    "# import torch\n",
    "# from torch.utils import data\n",
    "# from torch.utils.data import DataLoader, Dataset"
   ]
  },
  {
   "cell_type": "code",
   "execution_count": 75,
   "metadata": {
    "id": "dI7fDZ8zOtnP"
   },
   "outputs": [],
   "source": [
    "#To get the time taken for processing\n",
    "@contextmanager\n",
    "def timer(name):\n",
    "    t0 = time.time()\n",
    "    yield\n",
    "    print(f'[{name}] done in {time.time() - t0:.0f} s')"
   ]
  },
  {
   "cell_type": "code",
   "execution_count": 76,
   "metadata": {
    "id": "t2NXWxAlcPfj"
   },
   "outputs": [],
   "source": [
    "img_size = 224"
   ]
  },
  {
   "cell_type": "code",
   "execution_count": 77,
   "metadata": {
    "id": "QwzYmzbocVtw"
   },
   "outputs": [],
   "source": [
    "ROOT_PATH='/content/drive/MyDrive/Medical_Imaging/LVEF/Datasets/CAMUS/Original/database'\n",
    "TRAIN_PATH=ROOT_PATH+'/training'\n",
    "TEST_PATH=ROOT_PATH+'/testing'"
   ]
  },
  {
   "cell_type": "code",
   "execution_count": 78,
   "metadata": {
    "id": "azWT4HHPdhGs"
   },
   "outputs": [],
   "source": [
    "# Z Normalize image by subtracting the mean and dividing by the standrad deviation\n",
    "def data_norm(input):\n",
    "    input = np.array(input, dtype=np.float32)\n",
    "    input  = input - np.mean(input)\n",
    "    #Add a very small value in denominator to prevent zero division\n",
    "    output = input / (np.std(input) + 1e-12)\n",
    "    return output"
   ]
  },
  {
   "cell_type": "code",
   "execution_count": 79,
   "metadata": {
    "id": "jYa7cUYRckHS"
   },
   "outputs": [],
   "source": [
    "#Read the .mhd files \n",
    "def mhd_to_array(path):\n",
    "    \"\"\"\n",
    "    Read a *.mhd file stored in path and return it as a numpy array.\n",
    "    \"\"\"\n",
    "    return sitk.GetArrayFromImage(sitk.ReadImage(path, sitk.sitkFloat32))"
   ]
  },
  {
   "cell_type": "code",
   "execution_count": 80,
   "metadata": {
    "id": "2J9V2hqSma_f"
   },
   "outputs": [],
   "source": [
    "#Read the .cfg file and return data as a dictionary\n",
    "def read_info(data_file):\n",
    "  info = {}\n",
    "  with open( data_file, 'r' ) as f:\n",
    "    for line in f.readlines():\n",
    "      info_type, info_details = line.strip( '\\n' ).split( ': ' )\n",
    "      info[ info_type ] = info_details\n",
    "  return info"
   ]
  },
  {
   "cell_type": "code",
   "execution_count": 81,
   "metadata": {
    "colab": {
     "base_uri": "https://localhost:8080/",
     "height": 265
    },
    "id": "NtGWYoeHfYJk",
    "outputId": "cb098ac5-5889-4459-8829-a0bb8a11fc81"
   },
   "outputs": [
    {
     "name": "stdout",
     "output_type": "stream",
     "text": [
      "(1, 1167, 748)\n"
     ]
    },
    {
     "data": {
      "image/png": "[encoded data removed]",
      "text/plain": [
       "<Figure size 432x288 with 1 Axes>"
      ]
     },
     "metadata": {
      "needs_background": "light"
     },
     "output_type": "display_data"
    }
   ],
   "source": [
    "#Visualize a single .mhd image\n",
    "file='/content/drive/MyDrive/Medical_Imaging/LVEF/Datasets/CAMUS/Original/database/training/patient0002/patient0002_2CH_ED.mhd'\n",
    "itk_image = sitk.ReadImage(file)\n",
    "image_array = sitk.GetArrayViewFromImage(itk_image)\n",
    "# print the image's dimensions\n",
    "print(image_array.shape)\n",
    "# plot the image\n",
    "plt.axis('off')\n",
    "plt.imshow(image_array[0], cmap='gray')\n",
    "plt.show()"
   ]
  },
  {
   "cell_type": "code",
   "execution_count": 82,
   "metadata": {
    "id": "FSYPsDcGuJmB"
   },
   "outputs": [],
   "source": [
    "#Define dictionaries to store the images and gt files for 2C and 4C files for train and test images\n",
    "train_files,test_files={},{}"
   ]
  },
  {
   "cell_type": "code",
   "execution_count": 83,
   "metadata": {
    "id": "oXjG4TCRf1EJ"
   },
   "outputs": [],
   "source": [
    "#Function to read the .mhd and _gt.mhd file paths for 2C and 4C and store in seperate dictionaries\n",
    "def load_data_path(dir_path):\n",
    "  #Define lists to read the eds and es files for 2C and 4C\n",
    "  a2c_ims, a2c_gts,a2c_seq, a2c_info = [], [],[],[]\n",
    "  a4c_ims, a4c_gts,a4c_seq, a4c_info = [], [],[],[]\n",
    "  #Iterate through each patient directory\n",
    "  for p_dir in os.listdir(dir_path):\n",
    "      p_dir_path = dir_path + '/' + p_dir\n",
    "      #Check if it is a folder\n",
    "      if os.path.isdir(p_dir_path):\n",
    "        #Iterate through each file in a patient directory\n",
    "        for file in os.listdir(p_dir_path):\n",
    "            file_path = p_dir_path + '/' + file\n",
    "            #Get path of the .mhd files\n",
    "            if file.split('.')[1] == 'mhd':\n",
    "              # find 2C files for ED,ES\n",
    "              if file.split('.')[0].split('_')[1] == '2CH':\n",
    "                # find gt files\n",
    "                if file.split('.')[0].split('_')[-1] == 'gt':  \n",
    "                  a2c_gts.append(p_dir+ '/' + file)\n",
    "                #find sequence files\n",
    "                elif file.split('.')[0].split('_')[-1] == 'sequence':  \n",
    "                  a2c_seq.append(p_dir+ '/' + file)\n",
    "                #Add all remaining .mhd files\n",
    "                else: \n",
    "                  a2c_ims.append(p_dir+ '/' + file)\n",
    "              # find 4C files for ED,ES\n",
    "              elif file.split('.')[0].split('_')[1] == '4CH':\n",
    "                # find gt files\n",
    "                if file.split('.')[0].split('_')[-1] == 'gt':  \n",
    "                  a4c_gts.append(p_dir+ '/' + file)\n",
    "                #find sequence files\n",
    "                elif file.split('.')[0].split('_')[-1] == 'sequence':  \n",
    "                  a4c_seq.append(p_dir+ '/' + file)\n",
    "                #Add all remaining .mhd files\n",
    "                else: \n",
    "                  a4c_ims.append(p_dir+ '/' + file)\n",
    "            #Get path of the .cfg files\n",
    "            elif file.split('.')[1] == 'cfg': \n",
    "              if file.split('.')[0].split('_')[-1] == '2CH':\n",
    "                a2c_info.append(p_dir+ '/' + file)\n",
    "              elif file.split('.')[0].split('_')[-1] == '4CH':\n",
    "                a4c_info.append(p_dir+ '/' + file)\n",
    "\n",
    "  #Add the dictionary to the parent dictionary for img and gt files\n",
    "  seq_2ch_files,ims_2ch_files,info_2ch_files,gt_2ch_files={},{},{},{}\n",
    "  seq_2ch_files.update({'sequences':a2c_seq})\n",
    "  ims_2ch_files.update({'frames':a2c_ims})\n",
    "  info_2ch_files.update({'info':a2c_info})\n",
    "  gt_2ch_files.update({'masks':a2c_gts})\n",
    "\n",
    "  seq_4ch_files,ims_4ch_files,info_4ch_files,gt_4ch_files={},{},{},{}\n",
    "  seq_4ch_files.update({'sequences':a4c_seq})\n",
    "  ims_4ch_files.update({'frames':a4c_ims})\n",
    "  info_4ch_files.update({'info':a4c_info})\n",
    "  gt_4ch_files.update({'masks':a4c_gts})\n",
    "\n",
    "  #Define a list to add the above dictionaries\n",
    "  files_2ch_lst=[]\n",
    "  files_2ch_lst.append(seq_2ch_files)\n",
    "  files_2ch_lst.append(ims_2ch_files)\n",
    "  files_2ch_lst.append(info_2ch_files)\n",
    "  files_2ch_lst.append(gt_2ch_files)\n",
    "\n",
    "  files_4ch_lst=[]\n",
    "  files_4ch_lst.append(seq_4ch_files)\n",
    "  files_4ch_lst.append(ims_4ch_files)\n",
    "  files_4ch_lst.append(info_4ch_files)\n",
    "  files_4ch_lst.append(gt_4ch_files)\n",
    "\n",
    "  files_lst={}\n",
    "  files_lst.update({'2C':files_2ch_lst})\n",
    "  files_lst.update({'4C':files_4ch_lst})\n",
    "\n",
    "  return files_lst"
   ]
  },
  {
   "cell_type": "code",
   "execution_count": 84,
   "metadata": {
    "id": "ACcM4RSKypzT"
   },
   "outputs": [],
   "source": [
    "#Load the file paths for 2C and 4C files for train and test\n",
    "train_files=load_data_path(TRAIN_PATH)\n",
    "test_files=load_data_path(TEST_PATH)\n"
   ]
  },
  {
   "cell_type": "markdown",
   "metadata": {
    "id": "3snLzDPEZAi2"
   },
   "source": [
    "### Save the images in the corresponding folders"
   ]
  },
  {
   "cell_type": "code",
   "execution_count": 85,
   "metadata": {
    "id": "xybaReMNymID"
   },
   "outputs": [],
   "source": [
    "SAVE_PATH=ROOT_PATH+'/Preprocessed'"
   ]
  },
  {
   "cell_type": "code",
   "execution_count": 86,
   "metadata": {
    "id": "0uts5Y-vymLo"
   },
   "outputs": [],
   "source": [
    "#Check if the save path exists else create the required folders\n",
    "if not path.exists(SAVE_PATH):\n",
    "  os.mkdir(SAVE_PATH)\n",
    "  sub_lst1=['training','testing']\n",
    "  sub_lst2=['2C','4C']\n",
    "  sub_lst3=['sequences','frames','info','masks']\n",
    "\n",
    "  for i in sub_lst1:\n",
    "    for j in sub_lst2:\n",
    "      for k in sub_lst3:\n",
    "       os.makedirs(SAVE_PATH+'/'+i+'/'+j+'/'+k)"
   ]
  },
  {
   "cell_type": "code",
   "execution_count": 87,
   "metadata": {
    "id": "8mGuFyCdymPJ"
   },
   "outputs": [],
   "source": [
    "#Iterate through the imagepath list and save the images in the corresponding folder\n",
    "def save_Images(filePathLst,c,trainortest):\n",
    "  new_path=SAVE_PATH+'/'+trainortest+'/'+c+'/'\n",
    "  for filedict in filePathLst:\n",
    "    for folder,filepath in filedict.items():\n",
    "      for file in filepath:\n",
    "        #Check for the .cfg file nd rename it since all patients have same .cfg file name\n",
    "        if file.split('.')[1] == 'cfg':\n",
    "          #patientid_filename.cfg\n",
    "          img_name=file.split('/')[0]+'_'+file.split('/')[-1]\n",
    "        else:\n",
    "          #for the .mhd files\n",
    "          img_name=file.split('/')[-1]\n",
    "        src_path=TRAIN_PATH+'/'+file\n",
    "        dst_path = new_path+folder+'/'+img_name\n",
    "        #Copy file to the required folder\n",
    "        shutil.copy(src_path, dst_path)       "
   ]
  },
  {
   "cell_type": "code",
   "execution_count": 88,
   "metadata": {
    "colab": {
     "base_uri": "https://localhost:8080/",
     "height": 81,
     "referenced_widgets": [
      "3242a42808044b4598a0688af969a5ed",
      "bf5858027069469581bfe27557e9684d",
      "047c1bf986d5475c87f40e35e1b0fc34",
      "2c0e899610ae488485ef19a503fe5d11",
      "c4fe0932885a42dbb2dbd2ff0c90fa2b",
      "21713a7ad2914631bd108a8338a1c723",
      "49185daa3b7a436a927a0bf1c7fe2176",
      "788e09239a77445194cb183ea80fea26",
      "05b1a368ea5e428b845916287b1d6e31",
      "e41ffdf378b544aea96be9dcf5bb2efc",
      "d85bf90e7d574442a2b51d8ee16712c7",
      "d864b5bd214a4a109280d87c9630d8f2",
      "28e979b9f70f4ba0b996aea5c75161c6",
      "825698c684904269a1458c4d48810b3f",
      "bb0d0cde5dc749dbb02bcf22f3f6b867",
      "377d4b76e86d4d358f74d835345198ed",
      "410f1bbe052e4d2b84bf9bb6b5bc7038",
      "76b67707080344c58578c92f7bf794d9",
      "60ca5ea2b1804170a7c9bf884f43d20f",
      "a30a11c9e36e49a6ae738de8495d08d0",
      "e5d913e8c4764026991d807f56d48e31",
      "6db5eb7b164841748458f4421226cb25"
     ]
    },
    "id": "Hjy4SQwZQAq3",
    "outputId": "7683f1f0-65a9-47b3-bb5a-7baab5968740"
   },
   "outputs": [
    {
     "data": {
      "application/vnd.jupyter.widget-view+json": {
       "model_id": "3242a42808044b4598a0688af969a5ed",
       "version_major": 2,
       "version_minor": 0
      },
      "text/plain": [
       "0it [00:00, ?it/s]"
      ]
     },
     "metadata": {},
     "output_type": "display_data"
    },
    {
     "data": {
      "application/vnd.jupyter.widget-view+json": {
       "model_id": "d864b5bd214a4a109280d87c9630d8f2",
       "version_major": 2,
       "version_minor": 0
      },
      "text/plain": [
       "0it [00:00, ?it/s]"
      ]
     },
     "metadata": {},
     "output_type": "display_data"
    }
   ],
   "source": [
    "#Saving the images in 2C and 4C folders for train files\n",
    "for c,pathlist in train_files.items():\n",
    "  save_Images(pathlist,c,'training')"
   ]
  },
  {
   "cell_type": "code",
   "execution_count": 89,
   "metadata": {
    "id": "OuW3vcZqQAuo"
   },
   "outputs": [],
   "source": [
    "#Saving the images in 2C and 4C folders for test files\n",
    "for c,pathlist in test_files.items():\n",
    "  save_Images(pathlist,c,'testing')"
   ]
  },
  {
   "cell_type": "code",
   "execution_count": null,
   "metadata": {
    "id": "ysJiZ_VPQAx3"
   },
   "outputs": [],
   "source": []
  },
  {
   "cell_type": "code",
   "execution_count": null,
   "metadata": {
    "id": "HaBlWdVTP--r"
   },
   "outputs": [],
   "source": []
  },
  {
   "cell_type": "code",
   "execution_count": null,
   "metadata": {
    "id": "e794EosjP_CF"
   },
   "outputs": [],
   "source": []
  },
  {
   "cell_type": "code",
   "execution_count": null,
   "metadata": {
    "id": "4CwqO8pYP_Fi"
   },
   "outputs": [],
   "source": []
  },
  {
   "cell_type": "code",
   "execution_count": null,
   "metadata": {
    "id": "TxzE1rJvcixh"
   },
   "outputs": [],
   "source": []
  },
  {
   "cell_type": "code",
   "execution_count": null,
   "metadata": {
    "id": "8WZEubGzci00"
   },
   "outputs": [],
   "source": []
  },
  {
   "cell_type": "code",
   "execution_count": null,
   "metadata": {
    "id": "IMe-g5mwci3g"
   },
   "outputs": [],
   "source": []
  },
  {
   "cell_type": "code",
   "execution_count": null,
   "metadata": {
    "id": "3ld6K1F-ci64"
   },
   "outputs": [],
   "source": []
  },
  {
   "cell_type": "code",
   "execution_count": null,
   "metadata": {
    "id": "wqgl0rJnOts2"
   },
   "outputs": [],
   "source": []
  },
  {
   "cell_type": "code",
   "execution_count": null,
   "metadata": {
    "id": "oOiCKyXQOtwi"
   },
   "outputs": [],
   "source": []
  }
 ],
 "metadata": {
  "accelerator": "GPU",
  "colab": {
   "provenance": []
  },
  "gpuClass": "standard",
  "kernelspec": {
   "display_name": "Python 3 (ipykernel)",
   "language": "python",
   "name": "python3"
  },
  "language_info": {
   "codemirror_mode": {
    "name": "ipython",
    "version": 3
   },
   "file_extension": ".py",
   "mimetype": "text/x-python",
   "name": "python",
   "nbconvert_exporter": "python",
   "pygments_lexer": "ipython3",
   "version": "3.9.7"
  },
  "widgets": {
   "application/vnd.jupyter.widget-state+json": {
    "047c1bf986d5475c87f40e35e1b0fc34": {
     "model_module": "@jupyter-widgets/controls",
     "model_module_version": "1.5.0",
     "model_name": "FloatProgressModel",
     "state": {
      "_dom_classes": [],
      "_model_module": "@jupyter-widgets/controls",
      "_model_module_version": "1.5.0",
      "_model_name": "FloatProgressModel",
      "_view_count": null,
      "_view_module": "@jupyter-widgets/controls",
      "_view_module_version": "1.5.0",
      "_view_name": "ProgressView",
      "bar_style": "info",
      "description": "",
      "description_tooltip": null,
      "layout": "IPY_MODEL_788e09239a77445194cb183ea80fea26",
      "max": 1,
      "min": 0,
      "orientation": "horizontal",
      "style": "IPY_MODEL_05b1a368ea5e428b845916287b1d6e31",
      "value": 0
     }
    },
    "05b1a368ea5e428b845916287b1d6e31": {
     "model_module": "@jupyter-widgets/controls",
     "model_module_version": "1.5.0",
     "model_name": "ProgressStyleModel",
     "state": {
      "_model_module": "@jupyter-widgets/controls",
      "_model_module_version": "1.5.0",
      "_model_name": "ProgressStyleModel",
      "_view_count": null,
      "_view_module": "@jupyter-widgets/base",
      "_view_module_version": "1.2.0",
      "_view_name": "StyleView",
      "bar_color": null,
      "description_width": ""
     }
    },
    "21713a7ad2914631bd108a8338a1c723": {
     "model_module": "@jupyter-widgets/base",
     "model_module_version": "1.2.0",
     "model_name": "LayoutModel",
     "state": {
      "_model_module": "@jupyter-widgets/base",
      "_model_module_version": "1.2.0",
      "_model_name": "LayoutModel",
      "_view_count": null,
      "_view_module": "@jupyter-widgets/base",
      "_view_module_version": "1.2.0",
      "_view_name": "LayoutView",
      "align_content": null,
      "align_items": null,
      "align_self": null,
      "border": null,
      "bottom": null,
      "display": null,
      "flex": null,
      "flex_flow": null,
      "grid_area": null,
      "grid_auto_columns": null,
      "grid_auto_flow": null,
      "grid_auto_rows": null,
      "grid_column": null,
      "grid_gap": null,
      "grid_row": null,
      "grid_template_areas": null,
      "grid_template_columns": null,
      "grid_template_rows": null,
      "height": null,
      "justify_content": null,
      "justify_items": null,
      "left": null,
      "margin": null,
      "max_height": null,
      "max_width": null,
      "min_height": null,
      "min_width": null,
      "object_fit": null,
      "object_position": null,
      "order": null,
      "overflow": null,
      "overflow_x": null,
      "overflow_y": null,
      "padding": null,
      "right": null,
      "top": null,
      "visibility": null,
      "width": null
     }
    },
    "28e979b9f70f4ba0b996aea5c75161c6": {
     "model_module": "@jupyter-widgets/controls",
     "model_module_version": "1.5.0",
     "model_name": "HTMLModel",
     "state": {
      "_dom_classes": [],
      "_model_module": "@jupyter-widgets/controls",
      "_model_module_version": "1.5.0",
      "_model_name": "HTMLModel",
      "_view_count": null,
      "_view_module": "@jupyter-widgets/controls",
      "_view_module_version": "1.5.0",
      "_view_name": "HTMLView",
      "description": "",
      "description_tooltip": null,
      "layout": "IPY_MODEL_410f1bbe052e4d2b84bf9bb6b5bc7038",
      "placeholder": "​",
      "style": "IPY_MODEL_76b67707080344c58578c92f7bf794d9",
      "value": ""
     }
    },
    "2c0e899610ae488485ef19a503fe5d11": {
     "model_module": "@jupyter-widgets/controls",
     "model_module_version": "1.5.0",
     "model_name": "HTMLModel",
     "state": {
      "_dom_classes": [],
      "_model_module": "@jupyter-widgets/controls",
      "_model_module_version": "1.5.0",
      "_model_name": "HTMLModel",
      "_view_count": null,
      "_view_module": "@jupyter-widgets/controls",
      "_view_module_version": "1.5.0",
      "_view_name": "HTMLView",
      "description": "",
      "description_tooltip": null,
      "layout": "IPY_MODEL_e41ffdf378b544aea96be9dcf5bb2efc",
      "placeholder": "​",
      "style": "IPY_MODEL_d85bf90e7d574442a2b51d8ee16712c7",
      "value": " 0/? [00:00&lt;?, ?it/s]"
     }
    },
    "3242a42808044b4598a0688af969a5ed": {
     "model_module": "@jupyter-widgets/controls",
     "model_module_version": "1.5.0",
     "model_name": "HBoxModel",
     "state": {
      "_dom_classes": [],
      "_model_module": "@jupyter-widgets/controls",
      "_model_module_version": "1.5.0",
      "_model_name": "HBoxModel",
      "_view_count": null,
      "_view_module": "@jupyter-widgets/controls",
      "_view_module_version": "1.5.0",
      "_view_name": "HBoxView",
      "box_style": "",
      "children": [
       "IPY_MODEL_bf5858027069469581bfe27557e9684d",
       "IPY_MODEL_047c1bf986d5475c87f40e35e1b0fc34",
       "IPY_MODEL_2c0e899610ae488485ef19a503fe5d11"
      ],
      "layout": "IPY_MODEL_c4fe0932885a42dbb2dbd2ff0c90fa2b"
     }
    },
    "377d4b76e86d4d358f74d835345198ed": {
     "model_module": "@jupyter-widgets/base",
     "model_module_version": "1.2.0",
     "model_name": "LayoutModel",
     "state": {
      "_model_module": "@jupyter-widgets/base",
      "_model_module_version": "1.2.0",
      "_model_name": "LayoutModel",
      "_view_count": null,
      "_view_module": "@jupyter-widgets/base",
      "_view_module_version": "1.2.0",
      "_view_name": "LayoutView",
      "align_content": null,
      "align_items": null,
      "align_self": null,
      "border": null,
      "bottom": null,
      "display": null,
      "flex": null,
      "flex_flow": null,
      "grid_area": null,
      "grid_auto_columns": null,
      "grid_auto_flow": null,
      "grid_auto_rows": null,
      "grid_column": null,
      "grid_gap": null,
      "grid_row": null,
      "grid_template_areas": null,
      "grid_template_columns": null,
      "grid_template_rows": null,
      "height": null,
      "justify_content": null,
      "justify_items": null,
      "left": null,
      "margin": null,
      "max_height": null,
      "max_width": null,
      "min_height": null,
      "min_width": null,
      "object_fit": null,
      "object_position": null,
      "order": null,
      "overflow": null,
      "overflow_x": null,
      "overflow_y": null,
      "padding": null,
      "right": null,
      "top": null,
      "visibility": null,
      "width": null
     }
    },
    "410f1bbe052e4d2b84bf9bb6b5bc7038": {
     "model_module": "@jupyter-widgets/base",
     "model_module_version": "1.2.0",
     "model_name": "LayoutModel",
     "state": {
      "_model_module": "@jupyter-widgets/base",
      "_model_module_version": "1.2.0",
      "_model_name": "LayoutModel",
      "_view_count": null,
      "_view_module": "@jupyter-widgets/base",
      "_view_module_version": "1.2.0",
      "_view_name": "LayoutView",
      "align_content": null,
      "align_items": null,
      "align_self": null,
      "border": null,
      "bottom": null,
      "display": null,
      "flex": null,
      "flex_flow": null,
      "grid_area": null,
      "grid_auto_columns": null,
      "grid_auto_flow": null,
      "grid_auto_rows": null,
      "grid_column": null,
      "grid_gap": null,
      "grid_row": null,
      "grid_template_areas": null,
      "grid_template_columns": null,
      "grid_template_rows": null,
      "height": null,
      "justify_content": null,
      "justify_items": null,
      "left": null,
      "margin": null,
      "max_height": null,
      "max_width": null,
      "min_height": null,
      "min_width": null,
      "object_fit": null,
      "object_position": null,
      "order": null,
      "overflow": null,
      "overflow_x": null,
      "overflow_y": null,
      "padding": null,
      "right": null,
      "top": null,
      "visibility": null,
      "width": null
     }
    },
    "49185daa3b7a436a927a0bf1c7fe2176": {
     "model_module": "@jupyter-widgets/controls",
     "model_module_version": "1.5.0",
     "model_name": "DescriptionStyleModel",
     "state": {
      "_model_module": "@jupyter-widgets/controls",
      "_model_module_version": "1.5.0",
      "_model_name": "DescriptionStyleModel",
      "_view_count": null,
      "_view_module": "@jupyter-widgets/base",
      "_view_module_version": "1.2.0",
      "_view_name": "StyleView",
      "description_width": ""
     }
    },
    "60ca5ea2b1804170a7c9bf884f43d20f": {
     "model_module": "@jupyter-widgets/base",
     "model_module_version": "1.2.0",
     "model_name": "LayoutModel",
     "state": {
      "_model_module": "@jupyter-widgets/base",
      "_model_module_version": "1.2.0",
      "_model_name": "LayoutModel",
      "_view_count": null,
      "_view_module": "@jupyter-widgets/base",
      "_view_module_version": "1.2.0",
      "_view_name": "LayoutView",
      "align_content": null,
      "align_items": null,
      "align_self": null,
      "border": null,
      "bottom": null,
      "display": null,
      "flex": null,
      "flex_flow": null,
      "grid_area": null,
      "grid_auto_columns": null,
      "grid_auto_flow": null,
      "grid_auto_rows": null,
      "grid_column": null,
      "grid_gap": null,
      "grid_row": null,
      "grid_template_areas": null,
      "grid_template_columns": null,
      "grid_template_rows": null,
      "height": null,
      "justify_content": null,
      "justify_items": null,
      "left": null,
      "margin": null,
      "max_height": null,
      "max_width": null,
      "min_height": null,
      "min_width": null,
      "object_fit": null,
      "object_position": null,
      "order": null,
      "overflow": null,
      "overflow_x": null,
      "overflow_y": null,
      "padding": null,
      "right": null,
      "top": null,
      "visibility": null,
      "width": "20px"
     }
    },
    "6db5eb7b164841748458f4421226cb25": {
     "model_module": "@jupyter-widgets/controls",
     "model_module_version": "1.5.0",
     "model_name": "DescriptionStyleModel",
     "state": {
      "_model_module": "@jupyter-widgets/controls",
      "_model_module_version": "1.5.0",
      "_model_name": "DescriptionStyleModel",
      "_view_count": null,
      "_view_module": "@jupyter-widgets/base",
      "_view_module_version": "1.2.0",
      "_view_name": "StyleView",
      "description_width": ""
     }
    },
    "76b67707080344c58578c92f7bf794d9": {
     "model_module": "@jupyter-widgets/controls",
     "model_module_version": "1.5.0",
     "model_name": "DescriptionStyleModel",
     "state": {
      "_model_module": "@jupyter-widgets/controls",
      "_model_module_version": "1.5.0",
      "_model_name": "DescriptionStyleModel",
      "_view_count": null,
      "_view_module": "@jupyter-widgets/base",
      "_view_module_version": "1.2.0",
      "_view_name": "StyleView",
      "description_width": ""
     }
    },
    "788e09239a77445194cb183ea80fea26": {
     "model_module": "@jupyter-widgets/base",
     "model_module_version": "1.2.0",
     "model_name": "LayoutModel",
     "state": {
      "_model_module": "@jupyter-widgets/base",
      "_model_module_version": "1.2.0",
      "_model_name": "LayoutModel",
      "_view_count": null,
      "_view_module": "@jupyter-widgets/base",
      "_view_module_version": "1.2.0",
      "_view_name": "LayoutView",
      "align_content": null,
      "align_items": null,
      "align_self": null,
      "border": null,
      "bottom": null,
      "display": null,
      "flex": null,
      "flex_flow": null,
      "grid_area": null,
      "grid_auto_columns": null,
      "grid_auto_flow": null,
      "grid_auto_rows": null,
      "grid_column": null,
      "grid_gap": null,
      "grid_row": null,
      "grid_template_areas": null,
      "grid_template_columns": null,
      "grid_template_rows": null,
      "height": null,
      "justify_content": null,
      "justify_items": null,
      "left": null,
      "margin": null,
      "max_height": null,
      "max_width": null,
      "min_height": null,
      "min_width": null,
      "object_fit": null,
      "object_position": null,
      "order": null,
      "overflow": null,
      "overflow_x": null,
      "overflow_y": null,
      "padding": null,
      "right": null,
      "top": null,
      "visibility": null,
      "width": "20px"
     }
    },
    "825698c684904269a1458c4d48810b3f": {
     "model_module": "@jupyter-widgets/controls",
     "model_module_version": "1.5.0",
     "model_name": "FloatProgressModel",
     "state": {
      "_dom_classes": [],
      "_model_module": "@jupyter-widgets/controls",
      "_model_module_version": "1.5.0",
      "_model_name": "FloatProgressModel",
      "_view_count": null,
      "_view_module": "@jupyter-widgets/controls",
      "_view_module_version": "1.5.0",
      "_view_name": "ProgressView",
      "bar_style": "info",
      "description": "",
      "description_tooltip": null,
      "layout": "IPY_MODEL_60ca5ea2b1804170a7c9bf884f43d20f",
      "max": 1,
      "min": 0,
      "orientation": "horizontal",
      "style": "IPY_MODEL_a30a11c9e36e49a6ae738de8495d08d0",
      "value": 0
     }
    },
    "a30a11c9e36e49a6ae738de8495d08d0": {
     "model_module": "@jupyter-widgets/controls",
     "model_module_version": "1.5.0",
     "model_name": "ProgressStyleModel",
     "state": {
      "_model_module": "@jupyter-widgets/controls",
      "_model_module_version": "1.5.0",
      "_model_name": "ProgressStyleModel",
      "_view_count": null,
      "_view_module": "@jupyter-widgets/base",
      "_view_module_version": "1.2.0",
      "_view_name": "StyleView",
      "bar_color": null,
      "description_width": ""
     }
    },
    "bb0d0cde5dc749dbb02bcf22f3f6b867": {
     "model_module": "@jupyter-widgets/controls",
     "model_module_version": "1.5.0",
     "model_name": "HTMLModel",
     "state": {
      "_dom_classes": [],
      "_model_module": "@jupyter-widgets/controls",
      "_model_module_version": "1.5.0",
      "_model_name": "HTMLModel",
      "_view_count": null,
      "_view_module": "@jupyter-widgets/controls",
      "_view_module_version": "1.5.0",
      "_view_name": "HTMLView",
      "description": "",
      "description_tooltip": null,
      "layout": "IPY_MODEL_e5d913e8c4764026991d807f56d48e31",
      "placeholder": "​",
      "style": "IPY_MODEL_6db5eb7b164841748458f4421226cb25",
      "value": " 0/? [00:00&lt;?, ?it/s]"
     }
    },
    "bf5858027069469581bfe27557e9684d": {
     "model_module": "@jupyter-widgets/controls",
     "model_module_version": "1.5.0",
     "model_name": "HTMLModel",
     "state": {
      "_dom_classes": [],
      "_model_module": "@jupyter-widgets/controls",
      "_model_module_version": "1.5.0",
      "_model_name": "HTMLModel",
      "_view_count": null,
      "_view_module": "@jupyter-widgets/controls",
      "_view_module_version": "1.5.0",
      "_view_name": "HTMLView",
      "description": "",
      "description_tooltip": null,
      "layout": "IPY_MODEL_21713a7ad2914631bd108a8338a1c723",
      "placeholder": "​",
      "style": "IPY_MODEL_49185daa3b7a436a927a0bf1c7fe2176",
      "value": ""
     }
    },
    "c4fe0932885a42dbb2dbd2ff0c90fa2b": {
     "model_module": "@jupyter-widgets/base",
     "model_module_version": "1.2.0",
     "model_name": "LayoutModel",
     "state": {
      "_model_module": "@jupyter-widgets/base",
      "_model_module_version": "1.2.0",
      "_model_name": "LayoutModel",
      "_view_count": null,
      "_view_module": "@jupyter-widgets/base",
      "_view_module_version": "1.2.0",
      "_view_name": "LayoutView",
      "align_content": null,
      "align_items": null,
      "align_self": null,
      "border": null,
      "bottom": null,
      "display": null,
      "flex": null,
      "flex_flow": null,
      "grid_area": null,
      "grid_auto_columns": null,
      "grid_auto_flow": null,
      "grid_auto_rows": null,
      "grid_column": null,
      "grid_gap": null,
      "grid_row": null,
      "grid_template_areas": null,
      "grid_template_columns": null,
      "grid_template_rows": null,
      "height": null,
      "justify_content": null,
      "justify_items": null,
      "left": null,
      "margin": null,
      "max_height": null,
      "max_width": null,
      "min_height": null,
      "min_width": null,
      "object_fit": null,
      "object_position": null,
      "order": null,
      "overflow": null,
      "overflow_x": null,
      "overflow_y": null,
      "padding": null,
      "right": null,
      "top": null,
      "visibility": null,
      "width": null
     }
    },
    "d85bf90e7d574442a2b51d8ee16712c7": {
     "model_module": "@jupyter-widgets/controls",
     "model_module_version": "1.5.0",
     "model_name": "DescriptionStyleModel",
     "state": {
      "_model_module": "@jupyter-widgets/controls",
      "_model_module_version": "1.5.0",
      "_model_name": "DescriptionStyleModel",
      "_view_count": null,
      "_view_module": "@jupyter-widgets/base",
      "_view_module_version": "1.2.0",
      "_view_name": "StyleView",
      "description_width": ""
     }
    },
    "d864b5bd214a4a109280d87c9630d8f2": {
     "model_module": "@jupyter-widgets/controls",
     "model_module_version": "1.5.0",
     "model_name": "HBoxModel",
     "state": {
      "_dom_classes": [],
      "_model_module": "@jupyter-widgets/controls",
      "_model_module_version": "1.5.0",
      "_model_name": "HBoxModel",
      "_view_count": null,
      "_view_module": "@jupyter-widgets/controls",
      "_view_module_version": "1.5.0",
      "_view_name": "HBoxView",
      "box_style": "",
      "children": [
       "IPY_MODEL_28e979b9f70f4ba0b996aea5c75161c6",
       "IPY_MODEL_825698c684904269a1458c4d48810b3f",
       "IPY_MODEL_bb0d0cde5dc749dbb02bcf22f3f6b867"
      ],
      "layout": "IPY_MODEL_377d4b76e86d4d358f74d835345198ed"
     }
    },
    "e41ffdf378b544aea96be9dcf5bb2efc": {
     "model_module": "@jupyter-widgets/base",
     "model_module_version": "1.2.0",
     "model_name": "LayoutModel",
     "state": {
      "_model_module": "@jupyter-widgets/base",
      "_model_module_version": "1.2.0",
      "_model_name": "LayoutModel",
      "_view_count": null,
      "_view_module": "@jupyter-widgets/base",
      "_view_module_version": "1.2.0",
      "_view_name": "LayoutView",
      "align_content": null,
      "align_items": null,
      "align_self": null,
      "border": null,
      "bottom": null,
      "display": null,
      "flex": null,
      "flex_flow": null,
      "grid_area": null,
      "grid_auto_columns": null,
      "grid_auto_flow": null,
      "grid_auto_rows": null,
      "grid_column": null,
      "grid_gap": null,
      "grid_row": null,
      "grid_template_areas": null,
      "grid_template_columns": null,
      "grid_template_rows": null,
      "height": null,
      "justify_content": null,
      "justify_items": null,
      "left": null,
      "margin": null,
      "max_height": null,
      "max_width": null,
      "min_height": null,
      "min_width": null,
      "object_fit": null,
      "object_position": null,
      "order": null,
      "overflow": null,
      "overflow_x": null,
      "overflow_y": null,
      "padding": null,
      "right": null,
      "top": null,
      "visibility": null,
      "width": null
     }
    },
    "e5d913e8c4764026991d807f56d48e31": {
     "model_module": "@jupyter-widgets/base",
     "model_module_version": "1.2.0",
     "model_name": "LayoutModel",
     "state": {
      "_model_module": "@jupyter-widgets/base",
      "_model_module_version": "1.2.0",
      "_model_name": "LayoutModel",
      "_view_count": null,
      "_view_module": "@jupyter-widgets/base",
      "_view_module_version": "1.2.0",
      "_view_name": "LayoutView",
      "align_content": null,
      "align_items": null,
      "align_self": null,
      "border": null,
      "bottom": null,
      "display": null,
      "flex": null,
      "flex_flow": null,
      "grid_area": null,
      "grid_auto_columns": null,
      "grid_auto_flow": null,
      "grid_auto_rows": null,
      "grid_column": null,
      "grid_gap": null,
      "grid_row": null,
      "grid_template_areas": null,
      "grid_template_columns": null,
      "grid_template_rows": null,
      "height": null,
      "justify_content": null,
      "justify_items": null,
      "left": null,
      "margin": null,
      "max_height": null,
      "max_width": null,
      "min_height": null,
      "min_width": null,
      "object_fit": null,
      "object_position": null,
      "order": null,
      "overflow": null,
      "overflow_x": null,
      "overflow_y": null,
      "padding": null,
      "right": null,
      "top": null,
      "visibility": null,
      "width": null
     }
    }
   }
  }
 },
 "nbformat": 4,
 "nbformat_minor": 1
}
